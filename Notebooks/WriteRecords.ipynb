{
 "cells": [
  {
   "cell_type": "markdown",
   "id": "effbb6c8-a3a3-4793-acd0-05ace7631f4b",
   "metadata": {},
   "source": [
    "Notebook to write main project TFRecords for training"
   ]
  },
  {
   "cell_type": "code",
   "execution_count": null,
   "id": "e3b4bb45-0398-4909-a845-227994fabca5",
   "metadata": {},
   "outputs": [],
   "source": [
    "record_folder = \"../data/records/\""
   ]
  },
  {
   "cell_type": "code",
   "execution_count": null,
   "id": "97319eb7-a338-4150-b4c8-4d18f55bbfdf",
   "metadata": {},
   "outputs": [],
   "source": [
    "import numpy as np\n",
    "import pandas as pd\n",
    "import pyarrow as pa\n",
    "import pyarrow.parquet as pq\n",
    "import tensorflow as tf\n",
    "import keras\n",
    "import pysmiles\n",
    "import json\n",
    "import networkx as nx"
   ]
  },
  {
   "cell_type": "markdown",
   "id": "219528bc-3d39-4de3-92b8-68ca3d40f490",
   "metadata": {},
   "source": [
    "Load and pre-process data"
   ]
  },
  {
   "cell_type": "code",
   "execution_count": null,
   "id": "0ae1f31c-304c-47f7-b096-7c177e3a4793",
   "metadata": {},
   "outputs": [],
   "source": [
    "de_data_train = pq.read_table(\"../data/de_train.parquet\").to_pandas()\n",
    "de_data_train"
   ]
  },
  {
   "cell_type": "code",
   "execution_count": null,
   "id": "346bb3f1-bfac-4900-97d0-720eeeb1d9c9",
   "metadata": {},
   "outputs": [],
   "source": [
    "de_data_train[\"cell_type\"].unique()[1]"
   ]
  },
  {
   "cell_type": "code",
   "execution_count": null,
   "id": "4d5d41ff-e88a-4dcf-8bc1-8dbeb442399e",
   "metadata": {},
   "outputs": [],
   "source": [
    "cellNameToInt = {de_data_train[\"cell_type\"].unique()[i]: i for i in range(len(de_data_train[\"cell_type\"].unique()))}"
   ]
  },
  {
   "cell_type": "code",
   "execution_count": null,
   "id": "ec60105c-e6ea-4a93-a489-c50ae2ec588b",
   "metadata": {},
   "outputs": [],
   "source": [
    "de_data_train[\"cell_type_int\"] = de_data_train[\"cell_type\"].map(cellNameToInt)"
   ]
  },
  {
   "cell_type": "code",
   "execution_count": null,
   "id": "ffecd951-dbee-43dd-9536-856da94eda66",
   "metadata": {},
   "outputs": [],
   "source": [
    "cellNameToInt"
   ]
  },
  {
   "cell_type": "code",
   "execution_count": null,
   "id": "97554420-226b-473e-8bba-2eccb71d392b",
   "metadata": {},
   "outputs": [],
   "source": [
    "gene_names = de_data_train.columns[5:-2]"
   ]
  },
  {
   "cell_type": "markdown",
   "id": "dcbab7bc-89ca-45cf-9599-f15c4f8fa1d7",
   "metadata": {},
   "source": [
    "## Divide into train and test"
   ]
  },
  {
   "cell_type": "code",
   "execution_count": null,
   "id": "03f6a660-734b-4e98-818d-597754e68388",
   "metadata": {},
   "outputs": [],
   "source": [
    "# Cell types where all (cell_type, sm) pairs will be used for training\n",
    "train_only_cell_types     = [\"T cells CD4+\", \"T cells CD8+\", \"T regulatory cells\"]\n",
    "# Cell types where only some (cell_type, sm) pairs will be used for training\n",
    "train_and_test_cell_types = [\"B cells\", \"Myeloid cells\", \"NK cells\"]"
   ]
  },
  {
   "cell_type": "code",
   "execution_count": null,
   "id": "2d7bbcd9-9c55-4b6e-86e6-1ee48844f876",
   "metadata": {},
   "outputs": [],
   "source": [
    "# Create a dict mapping cell_name -> list of sm given for cell_name\n",
    "sm_names_by_cell_type = de_data_train.groupby(\"cell_type\")[\"sm_name\"].unique().to_dict()\n",
    "# Get list of small molecules given for cell types with a reduced set of (cell_type, sm) pairs\n",
    "train_and_test_sm = sm_names_by_cell_type[\"B cells\"]"
   ]
  },
  {
   "cell_type": "code",
   "execution_count": null,
   "id": "08441202-3f57-42ec-a9a7-5c450c81b371",
   "metadata": {},
   "outputs": [],
   "source": [
    "# For cell types where only some (cell_type, sm) pairs will be used for training\n",
    "# Choose which small molecules will be used for training and which for test\n",
    "num_b_sm       = len(sm_names_by_cell_type[\"B cells\"])\n",
    "num_myeloid_sm = len(sm_names_by_cell_type[\"Myeloid cells\"])\n",
    "num_nk_sm      = len(sm_names_by_cell_type[\"NK cells\"])\n",
    "\n",
    "b_cell_train       = sm_names_by_cell_type[\"B cells\"][:num_b_sm//2]\n",
    "myeloid_cell_train = sm_names_by_cell_type[\"Myeloid cells\"][:num_myeloid_sm//2]\n",
    "nk_cell_train      = sm_names_by_cell_type[\"NK cells\"][:num_nk_sm//2]\n",
    "\n",
    "b_cell_test       = sm_names_by_cell_type[\"B cells\"][num_b_sm//2:]\n",
    "myeloid_cell_test = sm_names_by_cell_type[\"Myeloid cells\"][num_myeloid_sm//2:]\n",
    "nk_cell_test      = sm_names_by_cell_type[\"NK cells\"][num_nk_sm//2:]"
   ]
  },
  {
   "cell_type": "code",
   "execution_count": null,
   "id": "0759d99a-ba32-4b89-ad4a-0f92f7a25631",
   "metadata": {},
   "outputs": [],
   "source": [
    "# Create training combinations with all (cell_type, sm) pairs for train only cell types\n",
    "training_combinations = dict((cell_type, sm_names_by_cell_type[cell_type]) for cell_type in train_only_cell_types)"
   ]
  },
  {
   "cell_type": "code",
   "execution_count": null,
   "id": "aefe1b45-09b6-41ce-b3e2-f46ec6948e2e",
   "metadata": {},
   "outputs": [],
   "source": [
    "# Include training (cell_type, sm) pairs from train_test cell types\n",
    "training_combinations[\"B cells\"] = b_cell_train\n",
    "training_combinations[\"Myeloid cells\"] = myeloid_cell_train\n",
    "training_combinations[\"NK cells\"] = nk_cell_train"
   ]
  },
  {
   "cell_type": "code",
   "execution_count": null,
   "id": "fdb13e18-f813-4afe-a5de-c23152f0d105",
   "metadata": {},
   "outputs": [],
   "source": [
    "# Create testing combinations\n",
    "testing_combinations = {}\n",
    "testing_combinations[\"B cells\"] = b_cell_test\n",
    "testing_combinations[\"Myeloid cells\"] = myeloid_cell_test\n",
    "testing_combinations[\"NK cells\"] = nk_cell_test"
   ]
  },
  {
   "cell_type": "code",
   "execution_count": null,
   "id": "fdf6ec27-fef4-4af3-a15b-78c12cb1a5e3",
   "metadata": {},
   "outputs": [],
   "source": [
    "training_combinations"
   ]
  },
  {
   "cell_type": "code",
   "execution_count": null,
   "id": "27e09ef7-6bec-4d72-9b4d-c30ac3613168",
   "metadata": {},
   "outputs": [],
   "source": [
    "testing_combinations"
   ]
  },
  {
   "cell_type": "code",
   "execution_count": null,
   "id": "48bdd432-8bb4-4725-948b-8502bc81b900",
   "metadata": {},
   "outputs": [],
   "source": [
    "# Convert into (cell_type, sm) pairs\n",
    "training_pairs = set({})\n",
    "for cell_type in training_combinations.keys():\n",
    "    for sm in training_combinations[cell_type]:\n",
    "        training_pairs.add(cell_type+\", \"+sm)\n",
    "\n",
    "testing_pairs = set({})\n",
    "for cell_type in testing_combinations.keys():\n",
    "    for sm in testing_combinations[cell_type]:\n",
    "        testing_pairs.add(cell_type+\", \"+sm)\n",
    "\n",
    "list(training_pairs)[:10]"
   ]
  },
  {
   "cell_type": "code",
   "execution_count": null,
   "id": "f1980e63-6bdd-4412-a70a-1732e3d5055e",
   "metadata": {},
   "outputs": [],
   "source": [
    "de_data_train[\"cell_type_sm_pair\"] = de_data_train[\"cell_type\"]+\", \"+de_data_train[\"sm_name\"]"
   ]
  },
  {
   "cell_type": "code",
   "execution_count": null,
   "id": "d02ffdcc-7895-477b-aa39-fc329f030049",
   "metadata": {},
   "outputs": [],
   "source": [
    "de_data_train[de_data_train[\"cell_type_sm_pair\"] == \"T regulatory cells, FK 866\"].iloc[0][5:-2]"
   ]
  },
  {
   "cell_type": "code",
   "execution_count": null,
   "id": "13954b68-70eb-4022-94fc-05987c1f5f3d",
   "metadata": {},
   "outputs": [],
   "source": [
    "sequences_csv = \"../data/sequences.jsonl\""
   ]
  },
  {
   "cell_type": "code",
   "execution_count": null,
   "id": "9f8958ce-b6c9-4399-acd3-14e94ef19ef2",
   "metadata": {},
   "outputs": [],
   "source": [
    "gene_symbol_to_dna = {}\n",
    "\n",
    "missing = 0\n",
    "total = 0\n",
    "\n",
    "with open(sequences_csv, \"r\") as sequences_file:\n",
    "    for line in sequences_file:\n",
    "        json_line = json.loads(line)\n",
    "        if \"seq\" not in json_line[\"seq_data\"]:\n",
    "            gene_symbol_to_dna[json_line[\"location\"]] = None\n",
    "            missing += 1\n",
    "        else:\n",
    "            gene_symbol_to_dna[json_line[\"location\"]] = json_line[\"seq_data\"][\"seq\"]\n",
    "        total += 1\n",
    "\n",
    "print(f\"{missing} gene sequences missing out of {total}\")"
   ]
  },
  {
   "cell_type": "markdown",
   "id": "e57daedd-f1a8-4d84-8818-c3ba39f0f44b",
   "metadata": {},
   "source": [
    "# Write Records"
   ]
  },
  {
   "cell_type": "code",
   "execution_count": null,
   "id": "b97edb57-a82d-495f-9fe4-c3a29a6851a8",
   "metadata": {},
   "outputs": [],
   "source": [
    "import GraphLayers"
   ]
  },
  {
   "cell_type": "code",
   "execution_count": null,
   "id": "231179b1-da0e-46ef-9634-7516c918a602",
   "metadata": {},
   "outputs": [],
   "source": [
    "MAX_NODES = 8500\n",
    "MAX_EDGES = 8500\n",
    "EMBEDDING_DIM = 120"
   ]
  },
  {
   "cell_type": "code",
   "execution_count": null,
   "id": "b6807d77-b464-46f8-a7f7-6885e5ea063f",
   "metadata": {},
   "outputs": [],
   "source": [
    "def smiles_to_graph(smiles_molecule):\n",
    "    graph = pysmiles.read_smiles(smiles_molecule, explicit_hydrogen=True)\n",
    "    return GraphLayers.convertFromNetworkX(graph, \n",
    "                               MAX_NODES,\n",
    "                               MAX_EDGES, \n",
    "                               EMBEDDING_DIM,\n",
    "                               \"element\",\n",
    "                               GraphLayers.atomic_num_to_int,\n",
    "                               \"order\",\n",
    "                               GraphLayers.bond_order_to_int)"
   ]
  },
  {
   "cell_type": "code",
   "execution_count": null,
   "id": "f0f9e329-052f-4254-9173-a8ad77adf2bf",
   "metadata": {},
   "outputs": [],
   "source": [
    "def dna_to_graph(sequence):\n",
    "    graph = nx.Graph()\n",
    "    i = 0\n",
    "    for char in sequence:\n",
    "        graph.add_node(i, symbol=char)\n",
    "        if i > 0:\n",
    "            graph.add_edge(i-1, i, edge_num=0)\n",
    "        i += 1\n",
    "\n",
    "    return GraphLayers.convertFromNetworkX(graph, \n",
    "                               MAX_NODES,\n",
    "                               MAX_EDGES, \n",
    "                               EMBEDDING_DIM,\n",
    "                               \"symbol\",\n",
    "                               GraphLayers.dna_symbol_to_int,\n",
    "                               \"edge_num\",\n",
    "                               {0: 0})"
   ]
  },
  {
   "cell_type": "code",
   "execution_count": null,
   "id": "787df7f3-fa44-46f3-b9d8-03ca0075133e",
   "metadata": {},
   "outputs": [],
   "source": [
    "gene_symbol_to_graph = {}\n",
    "\n",
    "for gene_name in gene_names:\n",
    "    dna_sequence = gene_symbol_to_dna[gene_name]\n",
    "    gene_symbol_to_graph[gene_name] = dna_to_graph(dna_sequence)"
   ]
  },
  {
   "cell_type": "code",
   "execution_count": null,
   "id": "81496851-b1b4-493a-802f-6ed061347f47",
   "metadata": {
    "editable": true,
    "slideshow": {
     "slide_type": ""
    },
    "tags": []
   },
   "outputs": [],
   "source": [
    "def write_example_for_pair(pair_name, data_frame, training=True):\n",
    "    pair_data = data_frame[data_frame[\"cell_type_sm_pair\"] == pair_name].iloc[0]\n",
    "\n",
    "    molecule_smiles = pair_data[\"SMILES\"]\n",
    "    mol_ver, mol_edj, mol_uni, mol_am, mol_conn, mol_edgeAdj = smiles_to_graph(molecule_smiles)\n",
    "\n",
    "    for gene_name in gene_names:\n",
    "        dna_sequence = gene_symbol_to_dna[gene_name]"
   ]
  },
  {
   "cell_type": "code",
   "execution_count": null,
   "id": "d084354c-f7f5-4479-8666-0416a179c4c3",
   "metadata": {},
   "outputs": [],
   "source": [
    "write_example_for_pair(\"T regulatory cells, FK 866\", de_data_train, training=True)"
   ]
  },
  {
   "cell_type": "code",
   "execution_count": null,
   "id": "2f6a947f-29cf-4d35-8485-16f081ee9731",
   "metadata": {},
   "outputs": [],
   "source": []
  }
 ],
 "metadata": {
  "kernelspec": {
   "display_name": "Python 3 (ipykernel)",
   "language": "python",
   "name": "python3"
  },
  "language_info": {
   "codemirror_mode": {
    "name": "ipython",
    "version": 3
   },
   "file_extension": ".py",
   "mimetype": "text/x-python",
   "name": "python",
   "nbconvert_exporter": "python",
   "pygments_lexer": "ipython3",
   "version": "3.10.12"
  }
 },
 "nbformat": 4,
 "nbformat_minor": 5
}
