{
 "cells": [
  {
   "cell_type": "code",
   "execution_count": null,
   "id": "e41943e7-e4dc-4962-8ced-957f58138ee1",
   "metadata": {},
   "outputs": [],
   "source": [
    "import csv"
   ]
  },
  {
   "cell_type": "code",
   "execution_count": null,
   "id": "bb1d783f-eb35-46f5-8a32-a755f2fdae12",
   "metadata": {},
   "outputs": [],
   "source": [
    "symbol_to_int = {}\n",
    "i = 0\n",
    "\n",
    "with open(\"../data/periodic_table.csv\", \"r\") as csvfile:\n",
    "    reader = csv.reader(csvfile)\n",
    "    csv_iter = iter(reader)\n",
    "    header = next(csv_iter)\n",
    "    for line in csv_iter:\n",
    "        symbol_to_int[line[2]] = i\n",
    "        i += 1"
   ]
  },
  {
   "cell_type": "code",
   "execution_count": null,
   "id": "79b8ccba-02e2-4885-b76f-7978d7057df0",
   "metadata": {},
   "outputs": [],
   "source": [
    "print(symbol_to_int)"
   ]
  },
  {
   "cell_type": "code",
   "execution_count": null,
   "id": "a7bae49e-58e8-4db0-866e-289b38537a91",
   "metadata": {},
   "outputs": [],
   "source": []
  }
 ],
 "metadata": {
  "kernelspec": {
   "display_name": "Python 3 (ipykernel)",
   "language": "python",
   "name": "python3"
  },
  "language_info": {
   "codemirror_mode": {
    "name": "ipython",
    "version": 3
   },
   "file_extension": ".py",
   "mimetype": "text/x-python",
   "name": "python",
   "nbconvert_exporter": "python",
   "pygments_lexer": "ipython3",
   "version": "3.10.12"
  }
 },
 "nbformat": 4,
 "nbformat_minor": 5
}
