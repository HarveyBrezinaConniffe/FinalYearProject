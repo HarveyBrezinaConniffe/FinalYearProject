{
 "cells": [
  {
   "cell_type": "code",
   "execution_count": null,
   "id": "f9e1d8be-3a95-4266-b6d8-21ff4260e15f",
   "metadata": {},
   "outputs": [],
   "source": [
    "import pandas as pd\n",
    "import pyarrow as pa\n",
    "import pyarrow.parquet as pq"
   ]
  },
  {
   "cell_type": "code",
   "execution_count": null,
   "id": "933e8a24-e6af-4a46-b11a-080d048cadc4",
   "metadata": {},
   "outputs": [],
   "source": [
    "de_data_train = pq.read_table(\"../data/de_train.parquet\").to_pandas()"
   ]
  },
  {
   "cell_type": "code",
   "execution_count": null,
   "id": "31bbe01d-2e7b-4ef6-9a80-340dbf4d4a58",
   "metadata": {},
   "outputs": [],
   "source": [
    "de_data_train"
   ]
  },
  {
   "cell_type": "code",
   "execution_count": null,
   "id": "4e375418-f6ba-4a00-acd6-ecdf2be39a1b",
   "metadata": {},
   "outputs": [],
   "source": [
    "de_data_train[\"cell_type\"].value_counts()"
   ]
  },
  {
   "cell_type": "code",
   "execution_count": null,
   "id": "a9f46b84-a095-42c1-8dc2-6681e765c387",
   "metadata": {},
   "outputs": [],
   "source": [
    "de_data_train[\"sm_name\"].nunique()"
   ]
  },
  {
   "cell_type": "code",
   "execution_count": null,
   "id": "ddab5b6f-6409-4a10-a21d-089dd6248385",
   "metadata": {},
   "outputs": [],
   "source": [
    "de_data_train[\"sm_name\"].value_counts()"
   ]
  },
  {
   "cell_type": "code",
   "execution_count": null,
   "id": "82cb1504-b74b-4aa8-8abb-c84560884253",
   "metadata": {},
   "outputs": [],
   "source": [
    "adata_train = pq.read_table(\"../data/adata_train.parquet\").to_pandas()"
   ]
  },
  {
   "cell_type": "code",
   "execution_count": null,
   "id": "c613df09-6d55-4197-b2e0-96ddcbe4b24c",
   "metadata": {},
   "outputs": [],
   "source": [
    "adata_train"
   ]
  },
  {
   "cell_type": "code",
   "execution_count": null,
   "id": "594c1d83-1e0a-406e-9e51-a77fb88d00de",
   "metadata": {},
   "outputs": [],
   "source": [
    "adata_train = pq.read_table(\"../data/adata_train.parquet\").to_pandas()"
   ]
  },
  {
   "cell_type": "code",
   "execution_count": null,
   "id": "3a994749-9ae7-4092-ac2c-0b6ad598f839",
   "metadata": {},
   "outputs": [],
   "source": [
    "adata_train"
   ]
  },
  {
   "cell_type": "code",
   "execution_count": null,
   "id": "7c473e83-2555-4f26-85d2-dee7bccc6dbf",
   "metadata": {},
   "outputs": [],
   "source": [
    "adata_obs_meta = pd.read_csv(\"../data/adata_obs_meta.csv\")"
   ]
  },
  {
   "cell_type": "code",
   "execution_count": null,
   "id": "1cf802b8-2df0-4e17-a954-84ee1271dff1",
   "metadata": {},
   "outputs": [],
   "source": [
    "adata_obs_meta"
   ]
  },
  {
   "cell_type": "code",
   "execution_count": null,
   "id": "98ffec9d-ddda-4b79-8334-c35a52d36759",
   "metadata": {},
   "outputs": [],
   "source": [
    "adata_obs_meta[\"sm_name\"].value_counts()"
   ]
  },
  {
   "cell_type": "code",
   "execution_count": null,
   "id": "b551e335-cf3b-4870-b038-dd07d55b6b2f",
   "metadata": {},
   "outputs": [],
   "source": []
  }
 ],
 "metadata": {
  "kernelspec": {
   "display_name": "Python 3 (ipykernel)",
   "language": "python",
   "name": "python3"
  },
  "language_info": {
   "codemirror_mode": {
    "name": "ipython",
    "version": 3
   },
   "file_extension": ".py",
   "mimetype": "text/x-python",
   "name": "python",
   "nbconvert_exporter": "python",
   "pygments_lexer": "ipython3",
   "version": "3.10.12"
  }
 },
 "nbformat": 4,
 "nbformat_minor": 5
}
