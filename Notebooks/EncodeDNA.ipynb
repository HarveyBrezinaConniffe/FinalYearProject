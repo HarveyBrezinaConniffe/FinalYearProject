{
 "cells": [
  {
   "cell_type": "code",
   "execution_count": null,
   "id": "d0c72ffe-3b98-4b86-a706-b6dd230ec2ae",
   "metadata": {},
   "outputs": [],
   "source": [
    "import json\n",
    "import numpy as np\n",
    "import pandas as pd\n",
    "import pyarrow as pa\n",
    "import pyarrow.parquet as pq"
   ]
  },
  {
   "cell_type": "code",
   "execution_count": null,
   "id": "8ea6d80a-bf74-44a8-9eb1-5f26207e3f4d",
   "metadata": {},
   "outputs": [],
   "source": [
    "de_data_train = pq.read_table(\"../data/de_train.parquet\").to_pandas()"
   ]
  },
  {
   "cell_type": "code",
   "execution_count": null,
   "id": "5884ca37-0c7b-465b-a03a-439699182ac3",
   "metadata": {},
   "outputs": [],
   "source": [
    "gene_names = de_data_train.columns[5:-2]"
   ]
  },
  {
   "cell_type": "code",
   "execution_count": null,
   "id": "d3c81636-d773-40dd-bcd9-54c404fcd9ac",
   "metadata": {},
   "outputs": [],
   "source": [
    "sequences_filepath = \"../data/sequences.jsonl\""
   ]
  },
  {
   "cell_type": "code",
   "execution_count": null,
   "id": "383516b9-5fe0-4d84-b304-3c1877d44f87",
   "metadata": {},
   "outputs": [],
   "source": [
    "gene_symbol_to_dna = {}\n",
    "gene_symbol_to_id = {}\n",
    "\n",
    "missing = 0\n",
    "total = 0\n",
    "\n",
    "with open(sequences_filepath, \"r\") as sequences_file:\n",
    "    for line in sequences_file:\n",
    "        json_line = json.loads(line)\n",
    "        if \"seq\" not in json_line[\"seq_data\"]:\n",
    "            gene_symbol_to_dna[json_line[\"location\"]] = \"\"\n",
    "            missing += 1\n",
    "        else:\n",
    "            gene_symbol_to_dna[json_line[\"location\"]] = json_line[\"seq_data\"][\"seq\"]\n",
    "        gene_symbol_to_id[json_line[\"location\"]] = total\n",
    "        total += 1\n",
    "\n",
    "print(f\"{missing} gene sequences missing out of {total}\")"
   ]
  },
  {
   "cell_type": "code",
   "execution_count": null,
   "id": "877258f6-d613-4416-9d8b-5cd283ece898",
   "metadata": {},
   "outputs": [],
   "source": [
    "not_found = 0\n",
    "idx = total\n",
    "\n",
    "for gene_name in gene_names:\n",
    "    if gene_name not in gene_symbol_to_dna:\n",
    "        not_found += 1\n",
    "        gene_symbol_to_dna[gene_name] = \"\"\n",
    "        gene_symbol_to_id[gene_name] = idx\n",
    "        idx += 1\n",
    "\n",
    "print(f\"{not_found} ({(not_found/total)*100}%) genes not found in data.\")"
   ]
  },
  {
   "cell_type": "code",
   "execution_count": null,
   "id": "29f5d608-fd6f-4386-8889-adc674321978",
   "metadata": {},
   "outputs": [],
   "source": [
    "dna_seq_lengths = []\n",
    "for gene in gene_symbol_to_dna:\n",
    "    dna_seq_lengths.append(len(gene_symbol_to_dna[gene]))\n",
    "\n",
    "DNA_SEQ_CAP = 100000\n",
    "\n",
    "num_smaller = (np.array(dna_seq_lengths) < DNA_SEQ_CAP).sum()\n",
    "\n",
    "print(f\"With a cap of {DNA_SEQ_CAP}. {num_smaller} ({(num_smaller/len(dna_seq_lengths))*100}%) are not truncated.\")"
   ]
  },
  {
   "cell_type": "code",
   "execution_count": null,
   "id": "02ad4ae0-537d-4601-8730-3bffba740a3b",
   "metadata": {},
   "outputs": [],
   "source": [
    "def dna_to_int_seq(dna_seq):\n",
    "    mapping = {\"C\": 1, \"A\": 2, \"T\": 3, \"G\": 4, \"N\": 5}\n",
    "    output = []\n",
    "\n",
    "    i = 0\n",
    "    for symbol in dna_seq:\n",
    "        if i >= DNA_SEQ_CAP:\n",
    "            break\n",
    "        output.append(mapping[symbol])\n",
    "        i += 1\n",
    "\n",
    "    while len(output) < DNA_SEQ_CAP:\n",
    "        output.append(0)\n",
    "\n",
    "    return output"
   ]
  },
  {
   "cell_type": "code",
   "execution_count": null,
   "id": "0125562b-a0da-41f0-b2b5-99ff8c78f4e5",
   "metadata": {},
   "outputs": [],
   "source": [
    "with open(\"../data/sequences_int.jsonl\", \"a\") as output_file:\n",
    "    for gene in gene_symbol_to_dna:\n",
    "        line = {\"gene\": gene, \"seq\": dna_to_int_seq(gene_symbol_to_dna[gene])}\n",
    "        output_file.write(json.dumps(line)+\"\\n\")"
   ]
  },
  {
   "cell_type": "code",
   "execution_count": null,
   "id": "fe0ca23a-8ece-4c38-80a4-b1fa2e9d2a49",
   "metadata": {},
   "outputs": [],
   "source": []
  }
 ],
 "metadata": {
  "kernelspec": {
   "display_name": "Python 3 (ipykernel)",
   "language": "python",
   "name": "python3"
  },
  "language_info": {
   "codemirror_mode": {
    "name": "ipython",
    "version": 3
   },
   "file_extension": ".py",
   "mimetype": "text/x-python",
   "name": "python",
   "nbconvert_exporter": "python",
   "pygments_lexer": "ipython3",
   "version": "3.10.12"
  }
 },
 "nbformat": 4,
 "nbformat_minor": 5
}
