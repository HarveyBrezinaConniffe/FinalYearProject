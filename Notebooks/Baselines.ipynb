{
 "cells": [
  {
   "cell_type": "code",
   "execution_count": null,
   "id": "a4bea4f6-c4ca-4a8f-a92f-7b41ee2ecec4",
   "metadata": {},
   "outputs": [],
   "source": [
    "import pandas as pd\n",
    "import pyarrow as pa\n",
    "import pyarrow.parquet as pq\n",
    "import numpy as np"
   ]
  },
  {
   "cell_type": "markdown",
   "id": "7af16448-777b-42df-875a-6f40e1301935",
   "metadata": {},
   "source": [
    "## Read data"
   ]
  },
  {
   "cell_type": "code",
   "execution_count": null,
   "id": "59efd2e9-468d-4454-8ac9-48173f3020c7",
   "metadata": {},
   "outputs": [],
   "source": [
    "de_data_train = pq.read_table(\"../data/de_train.parquet\").to_pandas()\n",
    "de_data_train"
   ]
  },
  {
   "cell_type": "markdown",
   "id": "b49e2d3d-8b69-4d42-a275-6f149feace6e",
   "metadata": {},
   "source": [
    "## Divide into train and test"
   ]
  },
  {
   "cell_type": "code",
   "execution_count": null,
   "id": "be59afea-a74f-4c74-81da-717407271a89",
   "metadata": {},
   "outputs": [],
   "source": [
    "# Cell types where all (cell_type, sm) pairs will be used for training\n",
    "train_only_cell_types     = [\"T cells CD4+\", \"T cells CD8+\", \"T regulatory cells\"]\n",
    "# Cell types where only some (cell_type, sm) pairs will be used for training\n",
    "train_and_test_cell_types = [\"B cells\", \"Myeloid cells\", \"NK cells\"]"
   ]
  },
  {
   "cell_type": "code",
   "execution_count": null,
   "id": "ff1ed00b-f5fb-4863-b5cd-4cb4ae13cdb0",
   "metadata": {},
   "outputs": [],
   "source": [
    "# Create a dict mapping cell_name -> list of sm given for cell_name\n",
    "sm_names_by_cell_type = de_data_train.groupby(\"cell_type\")[\"sm_name\"].unique().to_dict()\n",
    "# Get list of small molecules given for cell types with a reduced set of (cell_type, sm) pairs\n",
    "train_and_test_sm = sm_names_by_cell_type[\"B cells\"]"
   ]
  },
  {
   "cell_type": "code",
   "execution_count": null,
   "id": "b92ee387-77ed-454e-9344-f889a4d6001f",
   "metadata": {},
   "outputs": [],
   "source": [
    "# For cell types where only some (cell_type, sm) pairs will be used for training\n",
    "# Choose which small molecules will be used for training and which for test\n",
    "num_b_sm       = len(sm_names_by_cell_type[\"B cells\"])\n",
    "num_myeloid_sm = len(sm_names_by_cell_type[\"Myeloid cells\"])\n",
    "num_nk_sm      = len(sm_names_by_cell_type[\"NK cells\"])\n",
    "\n",
    "b_cell_train       = sm_names_by_cell_type[\"B cells\"][:num_b_sm//2]\n",
    "myeloid_cell_train = sm_names_by_cell_type[\"Myeloid cells\"][:num_myeloid_sm//2]\n",
    "nk_cell_train      = sm_names_by_cell_type[\"NK cells\"][:num_nk_sm//2]\n",
    "\n",
    "b_cell_test       = sm_names_by_cell_type[\"B cells\"][num_b_sm//2:]\n",
    "myeloid_cell_test = sm_names_by_cell_type[\"Myeloid cells\"][num_myeloid_sm//2:]\n",
    "nk_cell_test      = sm_names_by_cell_type[\"NK cells\"][num_nk_sm//2:]"
   ]
  },
  {
   "cell_type": "code",
   "execution_count": null,
   "id": "9a115bae-e5fd-41b0-8b20-584659d45ae4",
   "metadata": {},
   "outputs": [],
   "source": [
    "# Create training combinations with all (cell_type, sm) pairs for train only cell types\n",
    "training_combinations = dict((cell_type, sm_names_by_cell_type[cell_type]) for cell_type in train_only_cell_types)"
   ]
  },
  {
   "cell_type": "code",
   "execution_count": null,
   "id": "6c6d9be4-08fa-4f17-b995-67370675a1f7",
   "metadata": {},
   "outputs": [],
   "source": [
    "# Include training (cell_type, sm) pairs from train_test cell types\n",
    "training_combinations[\"B cells\"] = b_cell_train\n",
    "training_combinations[\"Myeloid cells\"] = myeloid_cell_train\n",
    "training_combinations[\"NK cells\"] = nk_cell_train"
   ]
  },
  {
   "cell_type": "code",
   "execution_count": null,
   "id": "48268a6c-d4d3-4321-9f6d-5c53aca52ecd",
   "metadata": {},
   "outputs": [],
   "source": [
    "# Create testing combinations\n",
    "testing_combinations = {}\n",
    "testing_combinations[\"B cells\"] = b_cell_test\n",
    "testing_combinations[\"Myeloid cells\"] = myeloid_cell_test\n",
    "testing_combinations[\"NK cells\"] = nk_cell_test"
   ]
  },
  {
   "cell_type": "code",
   "execution_count": null,
   "id": "5f06ccd1-60dd-4d3d-afaf-8adce595e0a2",
   "metadata": {},
   "outputs": [],
   "source": [
    "training_combinations"
   ]
  },
  {
   "cell_type": "code",
   "execution_count": null,
   "id": "2819502c-bf98-48e8-908e-7c8260a15518",
   "metadata": {},
   "outputs": [],
   "source": [
    "testing_combinations"
   ]
  },
  {
   "cell_type": "code",
   "execution_count": null,
   "id": "feeb2278-4644-48d4-b53e-76cab547df2d",
   "metadata": {},
   "outputs": [],
   "source": [
    "# Convert into (cell_type, sm) pairs\n",
    "training_pairs = set({})\n",
    "for cell_type in training_combinations.keys():\n",
    "    for sm in training_combinations[cell_type]:\n",
    "        training_pairs.add(cell_type+\", \"+sm)\n",
    "\n",
    "testing_pairs = set({})\n",
    "for cell_type in testing_combinations.keys():\n",
    "    for sm in testing_combinations[cell_type]:\n",
    "        testing_pairs.add(cell_type+\", \"+sm)\n",
    "\n",
    "list(training_pairs)[:10]"
   ]
  },
  {
   "cell_type": "code",
   "execution_count": null,
   "id": "53928468-4063-4d22-ab1a-b96826c40cf1",
   "metadata": {},
   "outputs": [],
   "source": [
    "all_column_names = de_data_train.columns\n",
    "gene_names = all_column_names[5:]"
   ]
  },
  {
   "cell_type": "code",
   "execution_count": null,
   "id": "714d8f16-6f6f-437a-9603-fdf6dec32c51",
   "metadata": {},
   "outputs": [],
   "source": [
    "de_data_train"
   ]
  },
  {
   "cell_type": "code",
   "execution_count": null,
   "id": "db978336-9f54-4d1e-baab-620842e19510",
   "metadata": {},
   "outputs": [],
   "source": [
    "cell_sm_gene_tuples = de_data_train.melt(id_vars=[\"cell_type\", \"sm_name\"], value_vars=gene_names, var_name=\"gene\", value_name=\"DE\")"
   ]
  },
  {
   "cell_type": "code",
   "execution_count": null,
   "id": "7db439a6-edd7-4c68-a8cd-fb58bad0df7e",
   "metadata": {},
   "outputs": [],
   "source": [
    "cell_sm_gene_tuples"
   ]
  },
  {
   "cell_type": "code",
   "execution_count": null,
   "id": "6eb717e5-e7df-4511-b825-a7f9e407a77a",
   "metadata": {},
   "outputs": [],
   "source": [
    "cell_sm_gene_tuples[\"cell_type_sm_pair\"] = cell_sm_gene_tuples[\"cell_type\"]+\", \"+cell_sm_gene_tuples[\"sm_name\"]"
   ]
  },
  {
   "cell_type": "code",
   "execution_count": null,
   "id": "6e05ee36-c6ca-4308-9ac3-3767a8612a82",
   "metadata": {},
   "outputs": [],
   "source": [
    "cell_sm_gene_tuples"
   ]
  },
  {
   "cell_type": "code",
   "execution_count": null,
   "id": "557e6d68-2ac3-4f68-b11c-f35e0b6d11d3",
   "metadata": {},
   "outputs": [],
   "source": [
    "training_tuples = cell_sm_gene_tuples[cell_sm_gene_tuples[\"cell_type_sm_pair\"].isin(training_pairs)]\n",
    "training_tuples"
   ]
  },
  {
   "cell_type": "code",
   "execution_count": null,
   "id": "acaa5b5b-6531-4a72-a653-b2f0d5675e95",
   "metadata": {},
   "outputs": [],
   "source": [
    "testing_tuples = cell_sm_gene_tuples[cell_sm_gene_tuples[\"cell_type_sm_pair\"].isin(testing_pairs)]\n",
    "testing_tuples"
   ]
  },
  {
   "cell_type": "code",
   "execution_count": null,
   "id": "2aa14e42-5157-4987-b82e-d6fc63eb3e89",
   "metadata": {},
   "outputs": [],
   "source": [
    "training_tuples = training_tuples.drop(\"cell_type_sm_pair\", axis=1)\n",
    "testing_tuples = testing_tuples.drop(\"cell_type_sm_pair\", axis=1)\n",
    "\n",
    "training_tuples"
   ]
  },
  {
   "cell_type": "markdown",
   "id": "1a1170a8-a898-4354-a31a-eacdf1d6dc2f",
   "metadata": {},
   "source": [
    "## Convert to numpy array for training some baseline models"
   ]
  },
  {
   "cell_type": "code",
   "execution_count": null,
   "id": "17080166-b670-43cd-bd61-b94aa24635b2",
   "metadata": {},
   "outputs": [],
   "source": [
    "# Convert cell_type, sm_name and gene to categorical types\n",
    "training_tuples[\"cell_type\"] = training_tuples[\"cell_type\"].astype('category')\n",
    "training_tuples[\"sm_name\"] = training_tuples[\"sm_name\"].astype('category')\n",
    "training_tuples[\"gene\"] = training_tuples[\"gene\"].astype('category')\n",
    "\n",
    "testing_tuples[\"cell_type\"] = testing_tuples[\"cell_type\"].astype('category')\n",
    "testing_tuples[\"sm_name\"] = testing_tuples[\"sm_name\"].astype('category')\n",
    "testing_tuples[\"gene\"] = testing_tuples[\"gene\"].astype('category')"
   ]
  },
  {
   "cell_type": "code",
   "execution_count": null,
   "id": "c9a91517-52c7-4650-a75f-8a160d277bd6",
   "metadata": {},
   "outputs": [],
   "source": [
    "training_numerical = training_tuples[[\"cell_type\", \"sm_name\", \"gene\"]].apply(lambda x: x.cat.codes)\n",
    "training_numerical[\"DE\"] = training_tuples[\"DE\"]"
   ]
  },
  {
   "cell_type": "code",
   "execution_count": null,
   "id": "d23feff2-c28f-4d59-9509-50c0c495c456",
   "metadata": {},
   "outputs": [],
   "source": [
    "testing_numerical = testing_tuples[[\"cell_type\", \"sm_name\", \"gene\"]].apply(lambda x: x.cat.codes)\n",
    "testing_numerical[\"DE\"] = testing_tuples[\"DE\"]"
   ]
  },
  {
   "cell_type": "code",
   "execution_count": null,
   "id": "d3257581-b07d-4890-be72-07489c96b6fd",
   "metadata": {},
   "outputs": [],
   "source": [
    "training_numerical"
   ]
  },
  {
   "cell_type": "code",
   "execution_count": null,
   "id": "97fc457f-7b54-4b19-959b-f86532863d0a",
   "metadata": {},
   "outputs": [],
   "source": [
    "testing_numerical"
   ]
  },
  {
   "cell_type": "code",
   "execution_count": null,
   "id": "bfca5194-ce6e-4af1-bc8d-ac3cd3999e20",
   "metadata": {},
   "outputs": [],
   "source": [
    "train = training_numerical.to_numpy()\n",
    "test = testing_numerical.to_numpy()\n",
    "train"
   ]
  },
  {
   "cell_type": "code",
   "execution_count": null,
   "id": "d350adf0-0fb4-40cf-a28b-9f49a5b7ea19",
   "metadata": {},
   "outputs": [],
   "source": [
    "trainX, trainY = train[:, :3], train[:, 3]\n",
    "testX, testY = test[:, :3], test[:, 3]"
   ]
  },
  {
   "cell_type": "markdown",
   "id": "ab053d70-11ef-44b5-b691-7e4c618c25ff",
   "metadata": {},
   "source": [
    "## Very dumb baseline"
   ]
  },
  {
   "cell_type": "code",
   "execution_count": null,
   "id": "fe921ce9-6f6c-463e-8a1c-bb5985ca16bd",
   "metadata": {},
   "outputs": [],
   "source": [
    "from sklearn.dummy import DummyRegressor\n",
    "from sklearn.metrics import mean_squared_error"
   ]
  },
  {
   "cell_type": "code",
   "execution_count": null,
   "id": "d69e5107-1125-4b70-8067-209eb806e31a",
   "metadata": {},
   "outputs": [],
   "source": [
    "mean_regressor = DummyRegressor(strategy=\"mean\")\n",
    "mean_regressor.fit(trainX, trainY)"
   ]
  },
  {
   "cell_type": "code",
   "execution_count": null,
   "id": "1d0c1dc6-6112-4808-b399-6ec41c353158",
   "metadata": {},
   "outputs": [],
   "source": [
    "train_mse = mean_squared_error(trainY, mean_regressor.predict(trainX))\n",
    "test_mse = mean_squared_error(testY, mean_regressor.predict(testX))\n",
    "print(f\"Train MSE: {train_mse}, Test MSE: {test_mse}\")"
   ]
  },
  {
   "cell_type": "markdown",
   "id": "5992a4af-2c1a-4692-8956-8c567c6a8180",
   "metadata": {},
   "source": [
    "## Vaguely less dumb baselines"
   ]
  },
  {
   "cell_type": "code",
   "execution_count": null,
   "id": "4bd2f4a0-9233-4b8d-a2a9-d5ffec5003e5",
   "metadata": {},
   "outputs": [],
   "source": [
    "from sklearn.linear_model import LinearRegression"
   ]
  },
  {
   "cell_type": "code",
   "execution_count": null,
   "id": "319bd069-fe63-4060-9ee3-aede8f050205",
   "metadata": {},
   "outputs": [],
   "source": [
    "linear_regressor = LinearRegression().fit(trainX, trainY)"
   ]
  },
  {
   "cell_type": "code",
   "execution_count": null,
   "id": "8ea1faeb-4ff0-4644-a6ff-d3c89ccc4859",
   "metadata": {},
   "outputs": [],
   "source": [
    "train_mse = mean_squared_error(trainY, linear_regressor.predict(trainX))\n",
    "test_mse = mean_squared_error(testY, linear_regressor.predict(testX))\n",
    "print(f\"Train MSE: {train_mse}, Test MSE: {test_mse}\")"
   ]
  },
  {
   "cell_type": "code",
   "execution_count": null,
   "id": "7c791d07-d138-47de-9007-fddc7340de64",
   "metadata": {},
   "outputs": [],
   "source": [
    "from sklearn.linear_model import Ridge"
   ]
  },
  {
   "cell_type": "code",
   "execution_count": null,
   "id": "a93b016d-0631-4d4f-8e72-cde5b7f65d81",
   "metadata": {},
   "outputs": [],
   "source": [
    "ridge_regressor = Ridge(alpha=10).fit(trainX, trainY)\n",
    "train_mse = mean_squared_error(trainY, ridge_regressor.predict(trainX))\n",
    "test_mse = mean_squared_error(testY, ridge_regressor.predict(testX))\n",
    "print(f\"Train MSE: {train_mse}, Test MSE: {test_mse}\")"
   ]
  },
  {
   "cell_type": "code",
   "execution_count": null,
   "id": "1b41d385-78f2-4b71-bef2-f5cdf9db12c8",
   "metadata": {},
   "outputs": [],
   "source": []
  }
 ],
 "metadata": {
  "kernelspec": {
   "display_name": "Python 3 (ipykernel)",
   "language": "python",
   "name": "python3"
  },
  "language_info": {
   "codemirror_mode": {
    "name": "ipython",
    "version": 3
   },
   "file_extension": ".py",
   "mimetype": "text/x-python",
   "name": "python",
   "nbconvert_exporter": "python",
   "pygments_lexer": "ipython3",
   "version": "3.10.12"
  }
 },
 "nbformat": 4,
 "nbformat_minor": 5
}
