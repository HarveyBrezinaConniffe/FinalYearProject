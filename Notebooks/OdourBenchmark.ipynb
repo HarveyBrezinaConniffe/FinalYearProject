{
 "cells": [
  {
   "cell_type": "code",
   "execution_count": null,
   "id": "7a218406-9cb0-4aa1-85b9-2892a2055417",
   "metadata": {},
   "outputs": [],
   "source": [
    "import tensorflow as tf\n",
    "import keras"
   ]
  },
  {
   "cell_type": "code",
   "execution_count": null,
   "id": "de789433-7109-468f-ad73-31371d880dd6",
   "metadata": {},
   "outputs": [],
   "source": [
    "import pysmiles\n",
    "import numpy as np"
   ]
  },
  {
   "cell_type": "code",
   "execution_count": null,
   "id": "33381f17-8123-4621-9850-8bea75be27d7",
   "metadata": {},
   "outputs": [],
   "source": [
    "from tensorflow.keras import Input, Model\n",
    "from tensorflow.keras.layers import Dense"
   ]
  },
  {
   "cell_type": "markdown",
   "id": "da83268a-a866-475f-826f-47795a2dc101",
   "metadata": {},
   "source": [
    "## Load some data"
   ]
  },
  {
   "cell_type": "code",
   "execution_count": null,
   "id": "8e72d885-30b1-4877-b7ee-1aa1dc23ad32",
   "metadata": {},
   "outputs": [],
   "source": [
    "import pyrfume"
   ]
  },
  {
   "cell_type": "code",
   "execution_count": null,
   "id": "a37bd23d-c626-43f9-bc6d-5e69c00bd987",
   "metadata": {},
   "outputs": [],
   "source": [
    "molecules = pyrfume.load_data('leffingwell/molecules.csv', remote=True)\n",
    "behavior = pyrfume.load_data('leffingwell/behavior.csv', remote=True)"
   ]
  },
  {
   "cell_type": "code",
   "execution_count": null,
   "id": "6f29277d-0ee7-468e-a526-c7740c2946a6",
   "metadata": {},
   "outputs": [],
   "source": [
    "MAX_NODES = 100\n",
    "MAX_EDGES = 500\n",
    "EMBEDDING_DIM = 120"
   ]
  },
  {
   "cell_type": "code",
   "execution_count": null,
   "id": "50c84364-0d34-4935-87a5-45abd51032b8",
   "metadata": {},
   "outputs": [],
   "source": [
    "from GraphLayers import *"
   ]
  },
  {
   "cell_type": "code",
   "execution_count": null,
   "id": "93e7bb76-6100-4933-96bc-3adf662aabdd",
   "metadata": {},
   "outputs": [],
   "source": [
    "def build_model(params):\n",
    "    vertices = Input(shape=((MAX_NODES, EMBEDDING_DIM,)), name=\"vertices\")\n",
    "    edges = Input(shape=((MAX_EDGES, EMBEDDING_DIM,)), name=\"edges\")\n",
    "    universal = Input(shape=((EMBEDDING_DIM,)), name=\"universal\")\n",
    "    adj = Input(shape=((MAX_NODES, MAX_NODES,)), name=\"adj\")\n",
    "    conEd = Input(shape=((MAX_NODES, MAX_EDGES,)), name=\"connectedEdges\")\n",
    "    edgeAdj = Input(shape=((MAX_EDGES, MAX_EDGES,)), name=\"edgeAdjacency\")\n",
    "    \n",
    "    x = [vertices, edges, universal, adj, conEd, edgeAdj]\n",
    "\n",
    "    for i in range(params[\"graph_layers\"]):\n",
    "        for k in range(params[\"pool_steps\"]):\n",
    "            x = PoolStep(params[f\"step_{k}_pve\"],\n",
    "                        params[f\"step_{k}_pee\"],\n",
    "                        params[f\"step_{k}_pue\"],\n",
    "                        params[f\"step_{k}_pvv\"],\n",
    "                        params[f\"step_{k}_pev\"],\n",
    "                        params[f\"step_{k}_puv\"],\n",
    "                        params[f\"step_{k}_pvu\"],\n",
    "                        params[f\"step_{k}_peu\"])(x)\n",
    "        x = GraphUpdate(params[\"embedding_dim\"], params[\"embedding_dim\"], params[\"embedding_dim\"], params[\"update_function_depth\"])(x)\n",
    "\n",
    "    x = PoolStep(p_ve=False,\n",
    "                p_ee=False,\n",
    "                p_ue=False,\n",
    "                p_vv=False,\n",
    "                p_ev=False,\n",
    "                p_uv=False,\n",
    "                p_vu=True,\n",
    "                p_eu=True)(x)        \n",
    "    \n",
    "    u = x[2]\n",
    "    for i in range(params[\"num_final_layers\"]):\n",
    "        u = Dense(4, activation=\"relu\")(u)\n",
    "\n",
    "    u = Dense(1, activation=\"sigmoid\")(u)\n",
    "    \n",
    "    return Model(inputs=[vertices, edges, universal, adj, conEd, edgeAdj], outputs=u)"
   ]
  },
  {
   "cell_type": "code",
   "execution_count": null,
   "id": "574da640-6c02-41c2-ae2e-d7608a527180",
   "metadata": {},
   "outputs": [],
   "source": [
    "import random"
   ]
  },
  {
   "cell_type": "code",
   "execution_count": null,
   "id": "8303f6d4-23de-4b77-90e3-a9f4c90fe308",
   "metadata": {},
   "outputs": [],
   "source": [
    "def generate_parameter_set():\n",
    "    params = {}\n",
    "\n",
    "    params[\"graph_layers\"] = random.randint(1, 5)\n",
    "    params[\"pool_steps\"] = random.randint(0, 5)\n",
    "\n",
    "    params[\"update_function_depth\"] = random.randint(1, 5)\n",
    "\n",
    "    for k in range(params[\"pool_steps\"]):\n",
    "        params[f\"step_{k}_pve\"] = random.choice([True, False])\n",
    "        params[f\"step_{k}_pee\"] = random.choice([True, False])\n",
    "        params[f\"step_{k}_pue\"] = random.choice([True, False])\n",
    "        params[f\"step_{k}_pvv\"] = random.choice([True, False])\n",
    "        params[f\"step_{k}_pev\"] = random.choice([True, False])\n",
    "        params[f\"step_{k}_puv\"] = random.choice([True, False])\n",
    "        params[f\"step_{k}_pvu\"] = random.choice([True, False])\n",
    "        params[f\"step_{k}_peu\"] = random.choice([True, False])\n",
    "\n",
    "    params[\"embedding_dim\"] = random.randint(10, 100)\n",
    "    params[\"num_final_layers\"] = random.randint(1, 5)\n",
    "\n",
    "    params[\"optimizer\"] = random.choice([\"RMSProp\", \"Adam\", \"SGD\"])\n",
    "\n",
    "    if params[\"optimizer\"] == \"RMSProp\":\n",
    "        #params[\"learning_rate\"] = random.uniform(0.0001, 0.1)\n",
    "        params[\"learning_rate\"] = 0.001\n",
    "\n",
    "    if params[\"optimizer\"] == \"Adam\":\n",
    "        #params[\"learning_rate\"] = random.uniform(0.00001, 0.1)\n",
    "        params[\"learning_rate\"] = 0.001\n",
    "\n",
    "    if params[\"optimizer\"] == \"SGD\":\n",
    "        #params[\"learning_rate\"] = random.uniform(0.001, 0.1)\n",
    "        params[\"learning_rate\"] = 0.01\n",
    "\n",
    "    params[\"batch_size\"] = random.choice([4, 8, 16, 32])\n",
    "    \n",
    "    return params"
   ]
  },
  {
   "cell_type": "markdown",
   "id": "b025c502-9a8e-400b-b637-063989552bb8",
   "metadata": {},
   "source": [
    "# Convert all data"
   ]
  },
  {
   "cell_type": "code",
   "execution_count": null,
   "id": "df4d7fed-ade0-45e8-a46f-7571fbde8c8f",
   "metadata": {},
   "outputs": [],
   "source": [
    "allVert = []\n",
    "allEdj = []\n",
    "allUni = []\n",
    "allAm = []\n",
    "allConn = []\n",
    "allEdgeAdj = []\n",
    "\n",
    "aromaticVals = []\n",
    "\n",
    "for i in range(len(molecules)):\n",
    "    moleculeSMILES = molecules[\"IsomericSMILES\"].iloc[i]\n",
    "    aromatic = behavior[\"aromatic\"].iloc[i]\n",
    "\n",
    "    graph = pysmiles.read_smiles(moleculeSMILES, explicit_hydrogen=True)\n",
    "    ver, edj, uni, am, conn, edgeAdj = convertFromNetworkX(graph, MAX_NODES, MAX_EDGES, EMBEDDING_DIM)\n",
    "\n",
    "    allVert.append(ver)\n",
    "    allEdj.append(edj)\n",
    "    allUni.append(uni)\n",
    "    allAm.append(am)\n",
    "    allConn.append(conn)\n",
    "    allEdgeAdj.append(edgeAdj)\n",
    "    aromaticVals.append(aromatic)"
   ]
  },
  {
   "cell_type": "code",
   "execution_count": null,
   "id": "52f7ee99-7365-4418-8704-aeb89fe009e0",
   "metadata": {},
   "outputs": [],
   "source": [
    "data = {\"vertices\": np.array(allVert),\n",
    "                \"edges\": np.array(allEdj),\n",
    "                \"universal\": np.array(allUni),\n",
    "                \"adj\": np.array(allAm),\n",
    "                \"connectedEdges\": np.array(allConn),\n",
    "                \"edgeAdjacency\": np.array(allEdgeAdj)}"
   ]
  },
  {
   "cell_type": "code",
   "execution_count": null,
   "id": "b810dbaa-42be-41d3-8668-66ac592a3382",
   "metadata": {},
   "outputs": [],
   "source": [
    "from datetime import datetime\n",
    "import json\n",
    "import time\n",
    "\n",
    "log_file = \"Experiment_Logs/OdourBenchmark/\"+datetime.now().strftime(\"Run_%m_%d_%Y%_%H:%M:%S\")+\".jsonl\"\n",
    "\n",
    "while True:\n",
    "    import gc\n",
    "    gc.collect()\n",
    "    \n",
    "    params = generate_parameter_set()\n",
    "    \n",
    "    print(params)\n",
    "    \n",
    "    model = build_model(params)\n",
    "    \n",
    "    stopper = tf.keras.callbacks.EarlyStopping(monitor='val_auc', patience=10)\n",
    "    \n",
    "    if params[\"optimizer\"] == \"RMSProp\":\n",
    "        optimizer=tf.keras.optimizers.RMSprop(params[\"learning_rate\"])\n",
    "    \n",
    "    if params[\"optimizer\"] == \"Adam\":\n",
    "        optimizer=tf.keras.optimizers.Adam(params[\"learning_rate\"])\n",
    "    \n",
    "    if params[\"optimizer\"] == \"SGD\":\n",
    "        optimizer=tf.keras.optimizers.SGD(params[\"learning_rate\"])\n",
    "    \n",
    "    model.compile(\n",
    "        optimizer=optimizer,\n",
    "        loss=tf.keras.losses.BinaryCrossentropy(from_logits=False),\n",
    "        metrics=\"AUC\"\n",
    "    )\n",
    "\n",
    "    start = time.time()\n",
    "    history = model.fit(data, np.array(aromaticVals), epochs=50000, batch_size=params[\"batch_size\"], validation_split=0.8, callbacks=[stopper])\n",
    "\n",
    "    train_time = time.time()-start\n",
    "    \n",
    "    best_auc = max(history.history[\"val_auc\"])\n",
    "    train_steps = history.history[\"val_auc\"].index(best_auc)\n",
    "\n",
    "    log_line = {\"params\": params, \"train_time\": train_time, \"train_steps\": train_steps, \"best_auc\": best_auc}\n",
    "\n",
    "    with open(log_file, \"a\") as log:\n",
    "        log.write(json.dumps(log_line)+\"\\n\")"
   ]
  },
  {
   "cell_type": "code",
   "execution_count": null,
   "id": "406cab22-afc6-41a1-972b-4ee524ef4581",
   "metadata": {},
   "outputs": [],
   "source": []
  },
  {
   "cell_type": "code",
   "execution_count": null,
   "id": "acfa2ad0-4304-4f38-9aa1-397cd297b4cd",
   "metadata": {},
   "outputs": [],
   "source": []
  }
 ],
 "metadata": {
  "kernelspec": {
   "display_name": "Python 3 (ipykernel)",
   "language": "python",
   "name": "python3"
  },
  "language_info": {
   "codemirror_mode": {
    "name": "ipython",
    "version": 3
   },
   "file_extension": ".py",
   "mimetype": "text/x-python",
   "name": "python",
   "nbconvert_exporter": "python",
   "pygments_lexer": "ipython3",
   "version": "3.10.12"
  }
 },
 "nbformat": 4,
 "nbformat_minor": 5
}
