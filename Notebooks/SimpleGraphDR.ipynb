{
 "cells": [
  {
   "cell_type": "code",
   "execution_count": null,
   "id": "e3a4e051-03f1-4ed7-86ab-28c3a85e6029",
   "metadata": {},
   "outputs": [],
   "source": [
    "import pandas as pd\n",
    "import pyarrow as pa\n",
    "import pyarrow.parquet as pq\n",
    "import numpy as np"
   ]
  },
  {
   "cell_type": "code",
   "execution_count": null,
   "id": "9ab54bbf-a8c5-432a-9219-7c76971d2928",
   "metadata": {},
   "outputs": [],
   "source": [
    "import tensorflow as tf\n",
    "import keras\n",
    "import pysmiles\n",
    "import numpy as np"
   ]
  },
  {
   "cell_type": "code",
   "execution_count": null,
   "id": "72bdd5e2-ee8b-4630-a397-b03fe7cef426",
   "metadata": {},
   "outputs": [],
   "source": [
    "de_data_train = pq.read_table(\"../data/de_train.parquet\").to_pandas()\n",
    "de_data_train"
   ]
  },
  {
   "cell_type": "markdown",
   "id": "190ee148-db7f-4140-bf3c-fee96f79397b",
   "metadata": {},
   "source": [
    "## Divide into train and test"
   ]
  },
  {
   "cell_type": "code",
   "execution_count": null,
   "id": "f67593cf-918c-481c-9549-3ce4367d5167",
   "metadata": {},
   "outputs": [],
   "source": [
    "# Cell types where all (cell_type, sm) pairs will be used for training\n",
    "train_only_cell_types     = [\"T cells CD4+\", \"T cells CD8+\", \"T regulatory cells\"]\n",
    "# Cell types where only some (cell_type, sm) pairs will be used for training\n",
    "train_and_test_cell_types = [\"B cells\", \"Myeloid cells\", \"NK cells\"]"
   ]
  },
  {
   "cell_type": "code",
   "execution_count": null,
   "id": "e6e3d615-4f2c-4c14-989c-c8005ee4b684",
   "metadata": {},
   "outputs": [],
   "source": [
    "# Create a dict mapping cell_name -> list of sm given for cell_name\n",
    "sm_names_by_cell_type = de_data_train.groupby(\"cell_type\")[\"sm_name\"].unique().to_dict()\n",
    "# Get list of small molecules given for cell types with a reduced set of (cell_type, sm) pairs\n",
    "train_and_test_sm = sm_names_by_cell_type[\"B cells\"]"
   ]
  },
  {
   "cell_type": "code",
   "execution_count": null,
   "id": "ab15cd36-8432-407e-bb11-69d3169f22d1",
   "metadata": {},
   "outputs": [],
   "source": [
    "# For cell types where only some (cell_type, sm) pairs will be used for training\n",
    "# Choose which small molecules will be used for training and which for test\n",
    "num_b_sm       = len(sm_names_by_cell_type[\"B cells\"])\n",
    "num_myeloid_sm = len(sm_names_by_cell_type[\"Myeloid cells\"])\n",
    "num_nk_sm      = len(sm_names_by_cell_type[\"NK cells\"])\n",
    "\n",
    "b_cell_train       = sm_names_by_cell_type[\"B cells\"][:num_b_sm//2]\n",
    "myeloid_cell_train = sm_names_by_cell_type[\"Myeloid cells\"][:num_myeloid_sm//2]\n",
    "nk_cell_train      = sm_names_by_cell_type[\"NK cells\"][:num_nk_sm//2]\n",
    "\n",
    "b_cell_test       = sm_names_by_cell_type[\"B cells\"][num_b_sm//2:]\n",
    "myeloid_cell_test = sm_names_by_cell_type[\"Myeloid cells\"][num_myeloid_sm//2:]\n",
    "nk_cell_test      = sm_names_by_cell_type[\"NK cells\"][num_nk_sm//2:]"
   ]
  },
  {
   "cell_type": "code",
   "execution_count": null,
   "id": "5fc99871-133c-43c0-ad8c-2d3b1c358cb1",
   "metadata": {},
   "outputs": [],
   "source": [
    "# Create training combinations with all (cell_type, sm) pairs for train only cell types\n",
    "training_combinations = dict((cell_type, sm_names_by_cell_type[cell_type]) for cell_type in train_only_cell_types)"
   ]
  },
  {
   "cell_type": "code",
   "execution_count": null,
   "id": "bcf77c59-fdd8-4610-9e0a-40d46fc2c8f0",
   "metadata": {},
   "outputs": [],
   "source": [
    "# Include training (cell_type, sm) pairs from train_test cell types\n",
    "training_combinations[\"B cells\"] = b_cell_train\n",
    "training_combinations[\"Myeloid cells\"] = myeloid_cell_train\n",
    "training_combinations[\"NK cells\"] = nk_cell_train"
   ]
  },
  {
   "cell_type": "code",
   "execution_count": null,
   "id": "2cb3575e-830e-43ae-90be-9847141ce830",
   "metadata": {},
   "outputs": [],
   "source": [
    "# Create testing combinations\n",
    "testing_combinations = {}\n",
    "testing_combinations[\"B cells\"] = b_cell_test\n",
    "testing_combinations[\"Myeloid cells\"] = myeloid_cell_test\n",
    "testing_combinations[\"NK cells\"] = nk_cell_test"
   ]
  },
  {
   "cell_type": "code",
   "execution_count": null,
   "id": "a9781a74-3e9c-4322-8398-790f727adea6",
   "metadata": {},
   "outputs": [],
   "source": [
    "training_combinations"
   ]
  },
  {
   "cell_type": "code",
   "execution_count": null,
   "id": "38622b55-6839-4c5f-bba9-002f8d018aa9",
   "metadata": {},
   "outputs": [],
   "source": [
    "testing_combinations"
   ]
  },
  {
   "cell_type": "code",
   "execution_count": null,
   "id": "25112749-9f3b-4461-ab7d-c1bb91e182c1",
   "metadata": {},
   "outputs": [],
   "source": [
    "# Convert into (cell_type, sm) pairs\n",
    "training_pairs = set({})\n",
    "for cell_type in training_combinations.keys():\n",
    "    for sm in training_combinations[cell_type]:\n",
    "        training_pairs.add(cell_type+\", \"+sm)\n",
    "\n",
    "testing_pairs = set({})\n",
    "for cell_type in testing_combinations.keys():\n",
    "    for sm in testing_combinations[cell_type]:\n",
    "        testing_pairs.add(cell_type+\", \"+sm)\n",
    "\n",
    "list(training_pairs)[:10]"
   ]
  },
  {
   "cell_type": "code",
   "execution_count": null,
   "id": "70ccf51a-27ae-41ee-83a5-271a8dcb9727",
   "metadata": {},
   "outputs": [],
   "source": [
    "de_data_train[\"cell_type_sm_pair\"] = de_data_train[\"cell_type\"]+\", \"+de_data_train[\"sm_name\"]"
   ]
  },
  {
   "cell_type": "code",
   "execution_count": null,
   "id": "66b3964e-9114-4711-8a5f-5cd44fb0d834",
   "metadata": {},
   "outputs": [],
   "source": [
    "de_data_train[de_data_train[\"cell_type_sm_pair\"] == \"T regulatory cells, FK 866\"].iloc[0][5:-1]"
   ]
  },
  {
   "cell_type": "markdown",
   "id": "2a94feca-ae53-4136-94b4-b73cd042d01b",
   "metadata": {},
   "source": [
    "# Convert to np arrays"
   ]
  },
  {
   "cell_type": "code",
   "execution_count": null,
   "id": "18143b38-c60a-4fbe-a455-f65b78324ca6",
   "metadata": {},
   "outputs": [],
   "source": [
    "symbol_to_int = {'H': 0, 'He': 1, 'Li': 2, 'Be': 3, 'B': 4, 'C': 5, 'N': 6, 'O': 7, 'F': 8, 'Ne': 9, 'Na': 10, 'Mg': 11, 'Al': 12, 'Si': 13, 'P': 14, 'S': 15, 'Cl': 16, 'Ar': 17, 'K': 18, 'Ca': 19, 'Sc': 20, 'Ti': 21, 'V': 22, 'Cr': 23, 'Mn': 24, 'Fe': 25, 'Co': 26, 'Ni': 27, 'Cu': 28, 'Zn': 29, 'Ga': 30, 'Ge': 31, 'As': 32, 'Se': 33, 'Br': 34, 'Kr': 35, 'Rb': 36, 'Sr': 37, 'Y': 38, 'Zr': 39, 'Nb': 40, 'Mo': 41, 'Tc': 42, 'Ru': 43, 'Rh': 44, 'Pd': 45, 'Ag': 46, 'Cd': 47, 'In': 48, 'Sn': 49, 'Sb': 50, 'Te': 51, 'I': 52, 'Xe': 53, 'Cs': 54, 'Ba': 55, 'La': 56, 'Ce': 57, 'Pr': 58, 'Nd': 59, 'Pm': 60, 'Sm': 61, 'Eu': 62, 'Gd': 63, 'Tb': 64, 'Dy': 65, 'Ho': 66, 'Er': 67, 'Tm': 68, 'Yb': 69, 'Lu': 70, 'Hf': 71, 'Ta': 72, 'W': 73, 'Re': 74, 'Os': 75, 'Ir': 76, 'Pt': 77, 'Au': 78, 'Hg': 79, 'Tl': 80, 'Pb': 81, 'Bi': 82, 'Po': 83, 'At': 84, 'Rn': 85, 'Fr': 86, 'Ra': 87, 'Ac': 88, 'Th': 89, 'Pa': 90, 'U': 91, 'Np': 92, 'Pu': 93, 'Am': 94, 'Cm': 95, 'Bk': 96, 'Cf': 97, 'Es': 98, 'Fm': 99, 'Md': 100, 'No': 101, 'Lr': 102, 'Rf': 103, 'Db': 104, 'Sg': 105, 'Bh': 106, 'Hs': 107, 'Mt': 108, 'Ds ': 109, 'Rg ': 110, 'Cn ': 111, 'Nh': 112, 'Fl': 113, 'Mc': 114, 'Lv': 115, 'Ts': 116, 'Og': 117}\n",
    "MAX_NODES = 150\n",
    "MAX_EDGES = 200\n",
    "EMBEDDING_DIM = 120\n",
    "\n",
    "def convertFromNetworkX(graph, maxNodes, maxEdges, embeddingDim):\n",
    "    nodeEmbeddings = np.zeros((maxNodes, embeddingDim))\n",
    "    edgeEmbeddings = np.zeros((maxEdges, embeddingDim))\n",
    "    universalEmbedding = np.zeros((embeddingDim))\n",
    "    adjacencyMatrix = np.zeros((maxNodes, maxNodes))\n",
    "    connectedEdges = np.zeros((maxNodes, maxEdges))\n",
    "    \n",
    "    # Populate node embeddings.\n",
    "    for nodeNum, symbol in graph.nodes(data=\"element\"):\n",
    "        symbolInt = symbol_to_int[symbol]\n",
    "        nodeEmbeddings[nodeNum][symbolInt] = 1.0\n",
    "        \n",
    "    # Populate edge embeddings and adjacency matrix.\n",
    "    i = 0\n",
    "    for start, end in graph.edges:\n",
    "        edgeOrder = graph.get_edge_data(start, end)[\"order\"]\n",
    "\n",
    "        # Kinda hacky, Edgeorder can be 1.5 prob should map not multiply\n",
    "        edgeEmbeddings[i][int(edgeOrder*2)] = 1.0\n",
    "        \n",
    "        adjacencyMatrix[start][end] = 1.0\n",
    "        adjacencyMatrix[end][start] = 1.0\n",
    "        \n",
    "        connectedEdges[start][i] = 1.0\n",
    "        connectedEdges[end][i] = 1.0\n",
    "        \n",
    "        i += 1\n",
    "    \n",
    "    return nodeEmbeddings, edgeEmbeddings, universalEmbedding, adjacencyMatrix, connectedEdges"
   ]
  },
  {
   "cell_type": "code",
   "execution_count": null,
   "id": "1fb52b73-8af0-4fce-a446-ab9bab032d6a",
   "metadata": {},
   "outputs": [],
   "source": [
    "import time"
   ]
  },
  {
   "cell_type": "code",
   "execution_count": null,
   "id": "ff24bfad-1881-40f2-b73c-bfed79523d35",
   "metadata": {},
   "outputs": [],
   "source": [
    "vertTrain = []\n",
    "edgeTrain = []\n",
    "uniTrain = []\n",
    "adjMatTrain = []\n",
    "connMatTrain = []\n",
    "\n",
    "targetsTrain = []\n",
    "\n",
    "i = 0\n",
    "for pairName in list(training_pairs):\n",
    "    pairData = de_data_train[de_data_train[\"cell_type_sm_pair\"] == pairName].iloc[0]\n",
    "    moleculeSMILES = pairData[\"SMILES\"]\n",
    "\n",
    "    graph = pysmiles.read_smiles(moleculeSMILES, explicit_hydrogen=True)\n",
    "    ver, edj, uni, am, conn = convertFromNetworkX(graph, MAX_NODES, MAX_EDGES, EMBEDDING_DIM)\n",
    "\n",
    "    vertTrain.append(ver)\n",
    "    edgeTrain.append(edj)\n",
    "    uniTrain.append(uni)\n",
    "    adjMatTrain.append(am)\n",
    "    connMatTrain.append(conn)\n",
    "\n",
    "    targetsTrain.append(np.array(pairData[5:-1]))\n",
    "    \n",
    "    i += 1"
   ]
  },
  {
   "cell_type": "code",
   "execution_count": null,
   "id": "d74f3325-32bf-4f8f-9687-c7c79622b372",
   "metadata": {},
   "outputs": [],
   "source": [
    "vertTest = []\n",
    "edgeTest = []\n",
    "uniTest = []\n",
    "adjMatTest = []\n",
    "connMatTest = []\n",
    "\n",
    "targetsTest = []\n",
    "\n",
    "i = 0\n",
    "for pairName in list(testing_pairs):\n",
    "    pairData = de_data_train[de_data_train[\"cell_type_sm_pair\"] == pairName].iloc[0]\n",
    "    moleculeSMILES = pairData[\"SMILES\"]\n",
    "\n",
    "    graph = pysmiles.read_smiles(moleculeSMILES, explicit_hydrogen=True)\n",
    "    ver, edj, uni, am, conn = convertFromNetworkX(graph, MAX_NODES, MAX_EDGES, EMBEDDING_DIM)\n",
    "\n",
    "    vertTest.append(ver)\n",
    "    edgeTest.append(edj)\n",
    "    uniTest.append(uni)\n",
    "    adjMatTest.append(am)\n",
    "    connMatTest.append(conn)\n",
    "\n",
    "    targetsTest.append(np.array(pairData[5:-1]))\n",
    "    \n",
    "    i += 1"
   ]
  },
  {
   "cell_type": "code",
   "execution_count": null,
   "id": "4bb6a491-72e7-4d20-b32c-a4cfd788b5b6",
   "metadata": {},
   "outputs": [],
   "source": [
    "trainData = {\"vertices\": np.array(vertTrain),\n",
    "             \"edges\": np.array(edgeTrain),\n",
    "             \"universal\": np.array(uniTrain),\n",
    "             \"adj\": np.array(adjMatTrain),\n",
    "             \"connectedEdges\": np.array(connMatTrain)}\n",
    "\n",
    "testData = {\"vertices\": np.array(vertTest),\n",
    "            \"edges\": np.array(edgeTest),\n",
    "            \"universal\": np.array(uniTest),\n",
    "            \"adj\": np.array(adjMatTest),\n",
    "            \"connectedEdges\": np.array(connMatTest)}"
   ]
  },
  {
   "cell_type": "code",
   "execution_count": null,
   "id": "2ccad0ca-299d-4d94-b53d-a8b3236d7b11",
   "metadata": {},
   "outputs": [],
   "source": [
    "targetsTrain = np.array(targetsTrain).astype(np.float32)\n",
    "targetsTest = np.array(targetsTest).astype(np.float32)"
   ]
  },
  {
   "cell_type": "code",
   "execution_count": null,
   "id": "38b1a9a1-8c07-481a-a779-30e97c0176e1",
   "metadata": {},
   "outputs": [],
   "source": [
    "from tensorflow.keras.layers import Dense\n",
    "from tensorflow.keras import Input, Model\n",
    "import tensorflow as tf"
   ]
  },
  {
   "cell_type": "code",
   "execution_count": null,
   "id": "0e1f2c71-86d0-472e-9283-888176c0197f",
   "metadata": {},
   "outputs": [],
   "source": [
    "class GraphUpdate(keras.layers.Layer):\n",
    "    def __init__(self, \n",
    "                 v_out_dim,\n",
    "                 e_out_dim,\n",
    "                 u_out_dim,\n",
    "                 activation=\"relu\"):\n",
    "        super().__init__()\n",
    "        self.v_update = Dense(v_out_dim, activation=activation, name=\"V_Update\")\n",
    "        self.e_update = Dense(e_out_dim, activation=activation, name=\"E_Update\")\n",
    "        self.u_update = Dense(u_out_dim, activation=activation, name=\"U_Update\")\n",
    "\n",
    "    def call(self, inputs):\n",
    "        v_in, e_in, u_in, adj, conEd = inputs\n",
    "        v_out = self.v_update(v_in)\n",
    "        e_out = self.e_update(e_in)\n",
    "        u_out = self.u_update(u_in)\n",
    "        return [v_out, e_out, u_out, adj, conEd]\n",
    "\n",
    "# Add the embedding of each connected edge to each vertex.\n",
    "class PoolEdgesToVertices(keras.layers.Layer):\n",
    "    def __init__(self):\n",
    "        super().__init__()\n",
    "\n",
    "    def call(self, inputs):\n",
    "        v_in, e_in, u_in, adj, conEd = inputs\n",
    "\n",
    "        pooledEdges = tf.matmul(conEd, e_in)\n",
    "        v_out = v_in+pooledEdges\n",
    "\n",
    "        return [v_out, e_in, u_in, adj, conEd]\n",
    "\n",
    "# Add the embedding of each connected vertex to each edge.\n",
    "class PoolVerticesToEdges(keras.layers.Layer):\n",
    "    def __init__(self):\n",
    "        super().__init__()\n",
    "\n",
    "    def call(self, inputs):\n",
    "        v_in, e_in, u_in, adj, conEd = inputs\n",
    "\n",
    "        pooledNodes = tf.matmul(conEd, v_in, transpose_a=True)\n",
    "        e_out = e_in+pooledNodes\n",
    "\n",
    "        return [v_in, e_out, u_in, adj, conEd]\n",
    "\n",
    "# Pool all vertices to universal.\n",
    "class PoolVerticesToUniversal(keras.layers.Layer):\n",
    "    def __init__(self):\n",
    "        super().__init__()\n",
    "\n",
    "    def call(self, inputs):\n",
    "        v_in, e_in, u_in, adj, conEd = inputs\n",
    "\n",
    "        u_out = tf.reduce_sum(v_in, axis=-1)\n",
    "\n",
    "        return [v_in, e_in, u_out, adj, conEd]"
   ]
  },
  {
   "cell_type": "code",
   "execution_count": null,
   "id": "a60fa409-820f-44c3-bfb5-1dd346790a0f",
   "metadata": {},
   "outputs": [],
   "source": [
    "vertices = Input(shape=((MAX_NODES, EMBEDDING_DIM,)), name=\"vertices\")\n",
    "edges = Input(shape=((MAX_EDGES, EMBEDDING_DIM,)), name=\"edges\")\n",
    "universal = Input(shape=((EMBEDDING_DIM,)), name=\"universal\")\n",
    "adj = Input(shape=((MAX_NODES, MAX_NODES,)), name=\"adj\")\n",
    "conEd = Input(shape=((MAX_NODES, MAX_EDGES,)), name=\"connectedEdges\")\n",
    "\n",
    "x = PoolEdgesToVertices()([vertices, edges, universal, adj, conEd])\n",
    "x = PoolVerticesToEdges()(x)\n",
    "x = GraphUpdate(32, 32, 32)([vertices, edges, universal, adj, conEd])\n",
    "\n",
    "x = PoolEdgesToVertices()(x)\n",
    "x = PoolVerticesToEdges()(x)\n",
    "x = GraphUpdate(16, 16, 16)(x)\n",
    "\n",
    "x = PoolVerticesToUniversal()(x)\n",
    "x = GraphUpdate(8, 8, 8)(x)\n",
    "\n",
    "u = x[2]\n",
    "u = Dense(4, activation=\"relu\")(u)\n",
    "u = Dense(1, activation=\"sigmoid\")(u)\n",
    "\n",
    "model = Model(inputs=[vertices, edges, universal, adj, conEd], outputs=u)"
   ]
  },
  {
   "cell_type": "code",
   "execution_count": null,
   "id": "1cda6af8-eb0f-4a49-9f32-37eb974e1d11",
   "metadata": {},
   "outputs": [],
   "source": [
    "tf.keras.utils.plot_model(model)"
   ]
  },
  {
   "cell_type": "markdown",
   "id": "093e5d11-f909-4965-8e27-6f47cfa4c535",
   "metadata": {},
   "source": [
    "# Define And Train Model"
   ]
  },
  {
   "cell_type": "code",
   "execution_count": null,
   "id": "2f7e5d90-61d5-4367-a05f-d5f236d5b533",
   "metadata": {},
   "outputs": [],
   "source": [
    "from tensorflow.keras.layers import Dense\n",
    "from tensorflow.keras import Input, Model\n",
    "import tensorflow as tf"
   ]
  },
  {
   "cell_type": "code",
   "execution_count": null,
   "id": "7aefea4f-8fee-41bb-bf40-ed1b59bbd949",
   "metadata": {},
   "outputs": [],
   "source": [
    "class GraphUpdate(keras.layers.Layer):\n",
    "    def __init__(self, \n",
    "                 v_out_dim,\n",
    "                 e_out_dim,\n",
    "                 u_out_dim,\n",
    "                 activation=\"relu\"):\n",
    "        super().__init__()\n",
    "        self.v_update = Dense(v_out_dim, activation=activation, name=\"V_Update\")\n",
    "        self.e_update = Dense(e_out_dim, activation=activation, name=\"E_Update\")\n",
    "        self.u_update = Dense(u_out_dim, activation=activation, name=\"U_Update\")\n",
    "\n",
    "    def call(self, inputs):\n",
    "        v_in, e_in, u_in, adj, conEd = inputs\n",
    "        v_out = self.v_update(v_in)\n",
    "        e_out = self.e_update(e_in)\n",
    "        u_out = self.u_update(u_in)\n",
    "        return [v_out, e_out, u_out, adj, conEd]\n",
    "\n",
    "# Add the embedding of each connected edge to each vertex.\n",
    "class PoolEdgesToVertices(keras.layers.Layer):\n",
    "    def __init__(self):\n",
    "        super().__init__()\n",
    "\n",
    "    def call(self, inputs):\n",
    "        v_in, e_in, u_in, adj, conEd = inputs\n",
    "\n",
    "        pooledEdges = tf.matmul(conEd, e_in)\n",
    "        v_out = v_in+pooledEdges\n",
    "\n",
    "        return [v_out, e_in, u_in, adj, conEd]\n",
    "\n",
    "# Add the embedding of each connected vertex to each edge.\n",
    "class PoolVerticesToEdges(keras.layers.Layer):\n",
    "    def __init__(self):\n",
    "        super().__init__()\n",
    "\n",
    "    def call(self, inputs):\n",
    "        v_in, e_in, u_in, adj, conEd = inputs\n",
    "\n",
    "        pooledNodes = tf.matmul(conEd, v_in, transpose_a=True)\n",
    "        e_out = e_in+pooledNodes\n",
    "\n",
    "        return [v_in, e_out, u_in, adj, conEd]\n",
    "\n",
    "# Pool all vertices to universal.\n",
    "class PoolVerticesToUniversal(keras.layers.Layer):\n",
    "    def __init__(self):\n",
    "        super().__init__()\n",
    "\n",
    "    def call(self, inputs):\n",
    "        v_in, e_in, u_in, adj, conEd = inputs\n",
    "\n",
    "        u_out = tf.reduce_sum(v_in, axis=-1)\n",
    "\n",
    "        return [v_in, e_in, u_out, adj, conEd]"
   ]
  },
  {
   "cell_type": "code",
   "execution_count": null,
   "id": "716f52cd-c991-46b5-838d-81a7692b7703",
   "metadata": {},
   "outputs": [],
   "source": [
    "vertices = Input(shape=((MAX_NODES, EMBEDDING_DIM,)), name=\"vertices\")\n",
    "edges = Input(shape=((MAX_EDGES, EMBEDDING_DIM,)), name=\"edges\")\n",
    "universal = Input(shape=((EMBEDDING_DIM,)), name=\"universal\")\n",
    "adj = Input(shape=((MAX_NODES, MAX_NODES,)), name=\"adj\")\n",
    "conEd = Input(shape=((MAX_NODES, MAX_EDGES,)), name=\"connectedEdges\")\n",
    "\n",
    "x = PoolEdgesToVertices()([vertices, edges, universal, adj, conEd])\n",
    "x = PoolVerticesToEdges()(x)\n",
    "x = GraphUpdate(32, 32, 32)([vertices, edges, universal, adj, conEd])\n",
    "\n",
    "x = PoolEdgesToVertices()(x)\n",
    "x = PoolVerticesToEdges()(x)\n",
    "x = GraphUpdate(32, 32, 32)(x)\n",
    "\n",
    "x = PoolVerticesToUniversal()(x)\n",
    "x = GraphUpdate(32, 32, 32)(x)\n",
    "\n",
    "u = x[2]\n",
    "u = Dense(32, activation=\"relu\")(u)\n",
    "u = Dense(18211)(u)\n",
    "\n",
    "model = Model(inputs=[vertices, edges, universal, adj, conEd], outputs=u)"
   ]
  },
  {
   "cell_type": "code",
   "execution_count": null,
   "id": "c817c71c-99ad-43d5-9269-ab8e76325fd2",
   "metadata": {},
   "outputs": [],
   "source": [
    "tf.keras.utils.plot_model(model)"
   ]
  },
  {
   "cell_type": "code",
   "execution_count": null,
   "id": "58cd6ead-4828-45bd-a03c-9054665ccaa0",
   "metadata": {},
   "outputs": [],
   "source": [
    "model.compile(\n",
    "    optimizer=tf.keras.optimizers.RMSprop(1e-3),\n",
    "    loss=tf.keras.losses.MeanSquaredError()\n",
    ")"
   ]
  },
  {
   "cell_type": "code",
   "execution_count": null,
   "id": "7b00ea9f-8d54-49e0-b026-02214573657d",
   "metadata": {},
   "outputs": [],
   "source": [
    "model.fit(trainData, targetsTrain, validation_data=(testData, targetsTest), epochs=50, batch_size=32)"
   ]
  },
  {
   "cell_type": "code",
   "execution_count": null,
   "id": "870d2f7e-c762-417f-ad3c-5eb82de54b19",
   "metadata": {},
   "outputs": [],
   "source": []
  }
 ],
 "metadata": {
  "kernelspec": {
   "display_name": "Python 3 (ipykernel)",
   "language": "python",
   "name": "python3"
  },
  "language_info": {
   "codemirror_mode": {
    "name": "ipython",
    "version": 3
   },
   "file_extension": ".py",
   "mimetype": "text/x-python",
   "name": "python",
   "nbconvert_exporter": "python",
   "pygments_lexer": "ipython3",
   "version": "3.10.12"
  }
 },
 "nbformat": 4,
 "nbformat_minor": 5
}
