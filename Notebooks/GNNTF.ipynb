{
 "cells": [
  {
   "cell_type": "code",
   "execution_count": null,
   "id": "7a218406-9cb0-4aa1-85b9-2892a2055417",
   "metadata": {},
   "outputs": [],
   "source": [
    "import tensorflow as tf\n",
    "import keras"
   ]
  },
  {
   "cell_type": "code",
   "execution_count": null,
   "id": "de789433-7109-468f-ad73-31371d880dd6",
   "metadata": {},
   "outputs": [],
   "source": [
    "import pysmiles\n",
    "import numpy as np"
   ]
  },
  {
   "cell_type": "markdown",
   "id": "da83268a-a866-475f-826f-47795a2dc101",
   "metadata": {},
   "source": [
    "## Load some data"
   ]
  },
  {
   "cell_type": "code",
   "execution_count": null,
   "id": "8e72d885-30b1-4877-b7ee-1aa1dc23ad32",
   "metadata": {},
   "outputs": [],
   "source": [
    "import pyrfume"
   ]
  },
  {
   "cell_type": "code",
   "execution_count": null,
   "id": "a37bd23d-c626-43f9-bc6d-5e69c00bd987",
   "metadata": {},
   "outputs": [],
   "source": [
    "molecules = pyrfume.load_data('leffingwell/molecules.csv', remote=True)\n",
    "behavior = pyrfume.load_data('leffingwell/behavior.csv', remote=True)"
   ]
  },
  {
   "cell_type": "code",
   "execution_count": null,
   "id": "0e870033-86c1-4aaa-ab2b-8f604a1d72e9",
   "metadata": {},
   "outputs": [],
   "source": [
    "test_graph = pysmiles.read_smiles(molecules[\"IsomericSMILES\"].iloc[0], explicit_hydrogen=True)"
   ]
  },
  {
   "cell_type": "code",
   "execution_count": null,
   "id": "a968f0e9-6311-4627-b4cc-6bc9be468737",
   "metadata": {},
   "outputs": [],
   "source": [
    "test_graph.edges"
   ]
  },
  {
   "cell_type": "code",
   "execution_count": null,
   "id": "4e5cf3c0-32de-44b1-9a14-8824bf525b44",
   "metadata": {},
   "outputs": [],
   "source": [
    "test_graph.nodes(data='element')"
   ]
  },
  {
   "cell_type": "code",
   "execution_count": null,
   "id": "03070541-f9af-4b4d-948b-237695ad68f0",
   "metadata": {},
   "outputs": [],
   "source": [
    "test_graph.get_edge_data(5, 6)"
   ]
  },
  {
   "cell_type": "code",
   "execution_count": null,
   "id": "74750f09-3eb8-4034-b2a7-7fa980b39945",
   "metadata": {},
   "outputs": [],
   "source": [
    "symbol_to_int = {'H': 0, 'He': 1, 'Li': 2, 'Be': 3, 'B': 4, 'C': 5, 'N': 6, 'O': 7, 'F': 8, 'Ne': 9, 'Na': 10, 'Mg': 11, 'Al': 12, 'Si': 13, 'P': 14, 'S': 15, 'Cl': 16, 'Ar': 17, 'K': 18, 'Ca': 19, 'Sc': 20, 'Ti': 21, 'V': 22, 'Cr': 23, 'Mn': 24, 'Fe': 25, 'Co': 26, 'Ni': 27, 'Cu': 28, 'Zn': 29, 'Ga': 30, 'Ge': 31, 'As': 32, 'Se': 33, 'Br': 34, 'Kr': 35, 'Rb': 36, 'Sr': 37, 'Y': 38, 'Zr': 39, 'Nb': 40, 'Mo': 41, 'Tc': 42, 'Ru': 43, 'Rh': 44, 'Pd': 45, 'Ag': 46, 'Cd': 47, 'In': 48, 'Sn': 49, 'Sb': 50, 'Te': 51, 'I': 52, 'Xe': 53, 'Cs': 54, 'Ba': 55, 'La': 56, 'Ce': 57, 'Pr': 58, 'Nd': 59, 'Pm': 60, 'Sm': 61, 'Eu': 62, 'Gd': 63, 'Tb': 64, 'Dy': 65, 'Ho': 66, 'Er': 67, 'Tm': 68, 'Yb': 69, 'Lu': 70, 'Hf': 71, 'Ta': 72, 'W': 73, 'Re': 74, 'Os': 75, 'Ir': 76, 'Pt': 77, 'Au': 78, 'Hg': 79, 'Tl': 80, 'Pb': 81, 'Bi': 82, 'Po': 83, 'At': 84, 'Rn': 85, 'Fr': 86, 'Ra': 87, 'Ac': 88, 'Th': 89, 'Pa': 90, 'U': 91, 'Np': 92, 'Pu': 93, 'Am': 94, 'Cm': 95, 'Bk': 96, 'Cf': 97, 'Es': 98, 'Fm': 99, 'Md': 100, 'No': 101, 'Lr': 102, 'Rf': 103, 'Db': 104, 'Sg': 105, 'Bh': 106, 'Hs': 107, 'Mt': 108, 'Ds ': 109, 'Rg ': 110, 'Cn ': 111, 'Nh': 112, 'Fl': 113, 'Mc': 114, 'Lv': 115, 'Ts': 116, 'Og': 117}"
   ]
  },
  {
   "cell_type": "code",
   "execution_count": null,
   "id": "87cfb4d6-2e74-47fa-b319-579a652250a6",
   "metadata": {},
   "outputs": [],
   "source": [
    "def convertFromNetworkX(graph, maxNodes, maxEdges, embeddingDim):\n",
    "    nodeEmbeddings = np.zeros((maxNodes, embeddingDim))\n",
    "    edgeEmbeddings = np.zeros((maxEdges, embeddingDim))\n",
    "    universalEmbedding = np.zeros((1, embeddingDim))\n",
    "    adjacencyMatrix = np.zeros((maxNodes, maxNodes))\n",
    "\n",
    "    # Populate node embeddings.\n",
    "    for nodeNum, symbol in graph.nodes(data=\"element\"):\n",
    "        symbolInt = symbol_to_int[symbol]\n",
    "        nodeEmbeddings[nodeNum][symbolInt] = 1.0\n",
    "        \n",
    "    # Populate edge embeddings and adjacency matrix.\n",
    "    i = 0\n",
    "    for start, end in graph.edges:\n",
    "        edgeOrder = graph.get_edge_data(start, end)[\"order\"]\n",
    "        \n",
    "        adjacencyMatrix[start][end] = 1.0\n",
    "        adjacencyMatrix[end][start] = 1.0\n",
    "    \n",
    "    return nodeEmbeddings, edgeEmbeddings, universalEmbedding, adjacencyMatrix"
   ]
  },
  {
   "cell_type": "code",
   "execution_count": null,
   "id": "b9058b02-060f-4e95-8697-533621a7c60c",
   "metadata": {},
   "outputs": [],
   "source": [
    "n, e, u, am = convertFromNetworkX(test_graph, 50, 50, 20)"
   ]
  },
  {
   "cell_type": "code",
   "execution_count": null,
   "id": "1c6e1063-0115-40b2-b757-d6a826e01fdf",
   "metadata": {},
   "outputs": [],
   "source": [
    "maxNodes = 50"
   ]
  },
  {
   "cell_type": "code",
   "execution_count": null,
   "id": "5df9b2d1-070b-4c14-9199-7775f8ffd9d3",
   "metadata": {},
   "outputs": [],
   "source": [
    "class GraphUpdate(keras.layers.Layer):\n",
    "    def __init__(self, units=32, input_dim=32):\n",
    "        super().__init__()\n",
    "        self.w = self.add_weight(\n",
    "            shape=(input_dim, units), initializer=\"random_normal\", trainable=True\n",
    "        )\n",
    "        self.b = self.add_weight(shape=(units,), initializer=\"zeros\", trainable=True)\n",
    "\n",
    "    def call(self, inputs):\n",
    "        return tf.matmul(inputs, self.w) + self.b"
   ]
  }
 ],
 "metadata": {
  "kernelspec": {
   "display_name": "Python 3 (ipykernel)",
   "language": "python",
   "name": "python3"
  },
  "language_info": {
   "codemirror_mode": {
    "name": "ipython",
    "version": 3
   },
   "file_extension": ".py",
   "mimetype": "text/x-python",
   "name": "python",
   "nbconvert_exporter": "python",
   "pygments_lexer": "ipython3",
   "version": "3.10.12"
  }
 },
 "nbformat": 4,
 "nbformat_minor": 5
}
