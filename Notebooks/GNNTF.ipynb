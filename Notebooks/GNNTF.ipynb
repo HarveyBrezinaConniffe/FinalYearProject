{
 "cells": [
  {
   "cell_type": "code",
   "execution_count": null,
   "id": "7a218406-9cb0-4aa1-85b9-2892a2055417",
   "metadata": {},
   "outputs": [],
   "source": [
    "import tensorflow as tf\n",
    "import keras"
   ]
  },
  {
   "cell_type": "code",
   "execution_count": null,
   "id": "de789433-7109-468f-ad73-31371d880dd6",
   "metadata": {},
   "outputs": [],
   "source": [
    "import pysmiles\n",
    "import numpy as np"
   ]
  },
  {
   "cell_type": "markdown",
   "id": "da83268a-a866-475f-826f-47795a2dc101",
   "metadata": {},
   "source": [
    "## Load some data"
   ]
  },
  {
   "cell_type": "code",
   "execution_count": null,
   "id": "8e72d885-30b1-4877-b7ee-1aa1dc23ad32",
   "metadata": {},
   "outputs": [],
   "source": [
    "import pyrfume"
   ]
  },
  {
   "cell_type": "code",
   "execution_count": null,
   "id": "a37bd23d-c626-43f9-bc6d-5e69c00bd987",
   "metadata": {},
   "outputs": [],
   "source": [
    "molecules = pyrfume.load_data('leffingwell/molecules.csv', remote=True)\n",
    "behavior = pyrfume.load_data('leffingwell/behavior.csv', remote=True)"
   ]
  },
  {
   "cell_type": "code",
   "execution_count": null,
   "id": "0e870033-86c1-4aaa-ab2b-8f604a1d72e9",
   "metadata": {},
   "outputs": [],
   "source": [
    "test_graph = pysmiles.read_smiles(molecules[\"IsomericSMILES\"].iloc[0], explicit_hydrogen=True)"
   ]
  },
  {
   "cell_type": "code",
   "execution_count": null,
   "id": "a968f0e9-6311-4627-b4cc-6bc9be468737",
   "metadata": {},
   "outputs": [],
   "source": [
    "test_graph.edges"
   ]
  },
  {
   "cell_type": "code",
   "execution_count": null,
   "id": "4e5cf3c0-32de-44b1-9a14-8824bf525b44",
   "metadata": {},
   "outputs": [],
   "source": [
    "test_graph.nodes(data='element')"
   ]
  },
  {
   "cell_type": "code",
   "execution_count": null,
   "id": "03070541-f9af-4b4d-948b-237695ad68f0",
   "metadata": {},
   "outputs": [],
   "source": [
    "test_graph.get_edge_data(5, 6)"
   ]
  },
  {
   "cell_type": "code",
   "execution_count": null,
   "id": "74750f09-3eb8-4034-b2a7-7fa980b39945",
   "metadata": {},
   "outputs": [],
   "source": [
    "symbol_to_int = {'H': 0, 'He': 1, 'Li': 2, 'Be': 3, 'B': 4, 'C': 5, 'N': 6, 'O': 7, 'F': 8, 'Ne': 9, 'Na': 10, 'Mg': 11, 'Al': 12, 'Si': 13, 'P': 14, 'S': 15, 'Cl': 16, 'Ar': 17, 'K': 18, 'Ca': 19, 'Sc': 20, 'Ti': 21, 'V': 22, 'Cr': 23, 'Mn': 24, 'Fe': 25, 'Co': 26, 'Ni': 27, 'Cu': 28, 'Zn': 29, 'Ga': 30, 'Ge': 31, 'As': 32, 'Se': 33, 'Br': 34, 'Kr': 35, 'Rb': 36, 'Sr': 37, 'Y': 38, 'Zr': 39, 'Nb': 40, 'Mo': 41, 'Tc': 42, 'Ru': 43, 'Rh': 44, 'Pd': 45, 'Ag': 46, 'Cd': 47, 'In': 48, 'Sn': 49, 'Sb': 50, 'Te': 51, 'I': 52, 'Xe': 53, 'Cs': 54, 'Ba': 55, 'La': 56, 'Ce': 57, 'Pr': 58, 'Nd': 59, 'Pm': 60, 'Sm': 61, 'Eu': 62, 'Gd': 63, 'Tb': 64, 'Dy': 65, 'Ho': 66, 'Er': 67, 'Tm': 68, 'Yb': 69, 'Lu': 70, 'Hf': 71, 'Ta': 72, 'W': 73, 'Re': 74, 'Os': 75, 'Ir': 76, 'Pt': 77, 'Au': 78, 'Hg': 79, 'Tl': 80, 'Pb': 81, 'Bi': 82, 'Po': 83, 'At': 84, 'Rn': 85, 'Fr': 86, 'Ra': 87, 'Ac': 88, 'Th': 89, 'Pa': 90, 'U': 91, 'Np': 92, 'Pu': 93, 'Am': 94, 'Cm': 95, 'Bk': 96, 'Cf': 97, 'Es': 98, 'Fm': 99, 'Md': 100, 'No': 101, 'Lr': 102, 'Rf': 103, 'Db': 104, 'Sg': 105, 'Bh': 106, 'Hs': 107, 'Mt': 108, 'Ds ': 109, 'Rg ': 110, 'Cn ': 111, 'Nh': 112, 'Fl': 113, 'Mc': 114, 'Lv': 115, 'Ts': 116, 'Og': 117}"
   ]
  },
  {
   "cell_type": "code",
   "execution_count": null,
   "id": "6f29277d-0ee7-468e-a526-c7740c2946a6",
   "metadata": {},
   "outputs": [],
   "source": [
    "MAX_NODES = 50\n",
    "MAX_EDGES = 200\n",
    "EMBEDDING_DIM = 120"
   ]
  },
  {
   "cell_type": "code",
   "execution_count": null,
   "id": "87cfb4d6-2e74-47fa-b319-579a652250a6",
   "metadata": {},
   "outputs": [],
   "source": [
    "def convertFromNetworkX(graph, maxNodes, maxEdges, embeddingDim):\n",
    "    nodeEmbeddings = np.zeros((maxNodes, embeddingDim))\n",
    "    edgeEmbeddings = np.zeros((maxEdges, embeddingDim))\n",
    "    universalEmbedding = np.zeros((1, embeddingDim))\n",
    "    adjacencyMatrix = np.zeros((maxNodes, maxNodes))\n",
    "    connectedEdges = np.zeros((maxNodes, maxEdges))\n",
    "    \n",
    "    # Populate node embeddings.\n",
    "    for nodeNum, symbol in graph.nodes(data=\"element\"):\n",
    "        symbolInt = symbol_to_int[symbol]\n",
    "        nodeEmbeddings[nodeNum][symbolInt] = 1.0\n",
    "        \n",
    "    # Populate edge embeddings and adjacency matrix.\n",
    "    i = 0\n",
    "    for start, end in graph.edges:\n",
    "        edgeOrder = graph.get_edge_data(start, end)[\"order\"]\n",
    "        edgeEmbeddings[i][edgeOrder] = 1.0\n",
    "        \n",
    "        adjacencyMatrix[start][end] = 1.0\n",
    "        adjacencyMatrix[end][start] = 1.0\n",
    "        \n",
    "        connectedEdges[start][i] = 1.0\n",
    "        connectedEdges[end][i] = 1.0\n",
    "        \n",
    "        i += 1\n",
    "    \n",
    "    return nodeEmbeddings, edgeEmbeddings, universalEmbedding, adjacencyMatrix, connectedEdges"
   ]
  },
  {
   "cell_type": "code",
   "execution_count": null,
   "id": "b9058b02-060f-4e95-8697-533621a7c60c",
   "metadata": {},
   "outputs": [],
   "source": [
    "v, e, u, am, conn = convertFromNetworkX(test_graph, MAX_NODES, MAX_EDGES, EMBEDDING_DIM)"
   ]
  },
  {
   "cell_type": "code",
   "execution_count": null,
   "id": "369baf75-4811-4b0a-bcad-13ede32f6db4",
   "metadata": {},
   "outputs": [],
   "source": [
    "conn.T.shape"
   ]
  },
  {
   "cell_type": "code",
   "execution_count": null,
   "id": "21f8da23-a98f-436b-873c-eb4a2745feef",
   "metadata": {},
   "outputs": [],
   "source": [
    "v.shape"
   ]
  },
  {
   "cell_type": "code",
   "execution_count": null,
   "id": "bb498685-9b1e-4bc0-84d6-4f3c4388ca67",
   "metadata": {},
   "outputs": [],
   "source": [
    "e.shape"
   ]
  },
  {
   "cell_type": "code",
   "execution_count": null,
   "id": "97d17e57-393a-4350-8ecd-c189a0cd949e",
   "metadata": {},
   "outputs": [],
   "source": [
    "np.dot(conn.T, v).shape"
   ]
  },
  {
   "cell_type": "code",
   "execution_count": null,
   "id": "0c52d503-30ef-44c2-aa9a-05ddac51e2d2",
   "metadata": {},
   "outputs": [],
   "source": [
    "from tensorflow.keras.layers import Dense\n",
    "from tensorflow.keras import Input, Model"
   ]
  },
  {
   "cell_type": "code",
   "execution_count": null,
   "id": "5df9b2d1-070b-4c14-9199-7775f8ffd9d3",
   "metadata": {},
   "outputs": [],
   "source": [
    "class GraphUpdate(keras.layers.Layer):\n",
    "    def __init__(self, \n",
    "                 v_out_dim,\n",
    "                 e_out_dim,\n",
    "                 u_out_dim,\n",
    "                 activation=\"relu\"):\n",
    "        super().__init__()\n",
    "        self.v_update = Dense(v_out_dim, activation=activation)\n",
    "        self.e_update = Dense(e_out_dim, activation=activation)\n",
    "        self.u_update = Dense(u_out_dim, activation=activation)\n",
    "\n",
    "    def call(self, inputs):\n",
    "        v_in, e_in, u_in, adj, conEd = inputs\n",
    "        v_out = self.v_update(v_in)\n",
    "        e_out = self.e_update(e_in)\n",
    "        u_out = self.u_update(u_in)\n",
    "        return [v_out, e_out, u_out, adj, conEd]\n",
    "\n",
    "# Add the embedding of each connected edge to each vertex.\n",
    "class PoolEdgesToVertices(keras.layers.Layer):\n",
    "    def __init__(self):\n",
    "        super().__init__()\n",
    "\n",
    "    def call(self, inputs):\n",
    "        v_in, e_in, u_in, adj, conEd = inputs\n",
    "\n",
    "        pooledEdges = tf.matmul(conEd, e_in)\n",
    "        v_out = v_in+pooledEdges\n",
    "\n",
    "        return [v_out, e_in, u_in, adj, conEd]\n",
    "\n",
    "# Add the embedding of each connected vertex to each edge.\n",
    "class PoolVerticesToEdges(keras.layers.Layer):\n",
    "    def __init__(self):\n",
    "        super().__init__()\n",
    "\n",
    "    def call(self, inputs):\n",
    "        v_in, e_in, u_in, adj, conEd = inputs\n",
    "\n",
    "        pooledNodes = tf.matmul(conEd, v_in, transpose_a=True)\n",
    "        e_out = e_in+pooledNodes\n",
    "\n",
    "        return [v_in, e_out, u_in, adj, conEd]\n",
    "\n",
    "# Pool all vertices to universal.\n",
    "class PoolVerticesToUniversal(keras.layers.Layer):\n",
    "    def __init__(self):\n",
    "        super().__init__()\n",
    "\n",
    "    def call(self, inputs):\n",
    "        v_in, e_in, u_in, adj, conEd = inputs\n",
    "\n",
    "        u_out = tf.reduce_sum(v_in, axis=-1)\n",
    "\n",
    "        return [v_in, e_in, u_out, adj, conEd]"
   ]
  },
  {
   "cell_type": "code",
   "execution_count": null,
   "id": "93e7bb76-6100-4933-96bc-3adf662aabdd",
   "metadata": {},
   "outputs": [],
   "source": [
    "vertices = Input(shape=((MAX_NODES, EMBEDDING_DIM,)), name=\"vertices\")\n",
    "edges = Input(shape=((MAX_EDGES, EMBEDDING_DIM,)), name=\"edges\")\n",
    "universal = Input(shape=((EMBEDDING_DIM,)), name=\"universal\")\n",
    "adj = Input(shape=((MAX_NODES, MAX_NODES,)), name=\"adj\")\n",
    "conEd = Input(shape=((MAX_NODES, MAX_EDGES,)), name=\"connectedEdges\")\n",
    "\n",
    "x = PoolEdgesToVertices()([vertices, edges, universal, adj, conEd])\n",
    "x = PoolVerticesToEdges()(x)\n",
    "x = GraphUpdate(50, 50, 50)(x)\n",
    "\n",
    "x = PoolEdgesToVertices()(x)\n",
    "x = PoolVerticesToEdges()(x)\n",
    "x = GraphUpdate(10, 10, 10)(x)\n",
    "\n",
    "x = PoolVerticesToUniversal()(x)\n",
    "x = GraphUpdate(10, 10, 10)(x)\n",
    "\n",
    "u = x[2]\n",
    "u = Dense(32, activation=\"sigmoid\")(u)\n",
    "\n",
    "model = Model(inputs=[vertices, edges, universal, adj, conEd], outputs=u)"
   ]
  },
  {
   "cell_type": "code",
   "execution_count": null,
   "id": "7fa8183b-393e-4c47-9346-ff6368577990",
   "metadata": {},
   "outputs": [],
   "source": [
    "tf.keras.utils.plot_model(model)"
   ]
  },
  {
   "cell_type": "code",
   "execution_count": null,
   "id": "dcf8db50-3e4b-4390-b33b-7e6f2b9f2ec0",
   "metadata": {},
   "outputs": [],
   "source": [
    "np.array([uni, uni]).shape"
   ]
  },
  {
   "cell_type": "code",
   "execution_count": null,
   "id": "ea0f0b1d-999f-4a15-9062-0a8868847ed9",
   "metadata": {},
   "outputs": [],
   "source": [
    "ver, edj, uni, am, conn = convertFromNetworkX(test_graph, MAX_NODES, MAX_EDGES, EMBEDDING_DIM)\n",
    "\n",
    "sample_input = {\"vertices\": np.array([ver, ver]),\n",
    "                \"edges\": np.array([edj, edj]),\n",
    "                \"universal\": np.array([uni, uni]),\n",
    "                \"adj\": np.array([am, am]),\n",
    "                \"connectedEdges\": np.array([conn, conn])}\n",
    "\n",
    "model(sample_input)"
   ]
  },
  {
   "cell_type": "code",
   "execution_count": null,
   "id": "f4b44a52-8c43-4558-9c7b-061c59826839",
   "metadata": {},
   "outputs": [],
   "source": []
  }
 ],
 "metadata": {
  "kernelspec": {
   "display_name": "Python 3 (ipykernel)",
   "language": "python",
   "name": "python3"
  },
  "language_info": {
   "codemirror_mode": {
    "name": "ipython",
    "version": 3
   },
   "file_extension": ".py",
   "mimetype": "text/x-python",
   "name": "python",
   "nbconvert_exporter": "python",
   "pygments_lexer": "ipython3",
   "version": "3.10.12"
  }
 },
 "nbformat": 4,
 "nbformat_minor": 5
}
