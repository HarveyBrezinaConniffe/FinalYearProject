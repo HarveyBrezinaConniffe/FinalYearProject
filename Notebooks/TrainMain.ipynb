{
 "cells": [
  {
   "cell_type": "code",
   "execution_count": null,
   "id": "97319eb7-a338-4150-b4c8-4d18f55bbfdf",
   "metadata": {},
   "outputs": [],
   "source": [
    "import numpy as np\n",
    "import pandas as pd\n",
    "import pyarrow as pa\n",
    "import pyarrow.parquet as pq\n",
    "import tensorflow as tf\n",
    "import keras\n",
    "import pysmiles\n",
    "import json\n",
    "import networkx as nx\n",
    "import random"
   ]
  },
  {
   "cell_type": "code",
   "execution_count": null,
   "id": "dfe44faf-504d-4c4f-8490-d123cf33bc78",
   "metadata": {},
   "outputs": [],
   "source": [
    "import time"
   ]
  },
  {
   "cell_type": "code",
   "execution_count": null,
   "id": "abbfa719-ad06-40c5-ae64-b29777517f98",
   "metadata": {},
   "outputs": [],
   "source": [
    "import logging\n",
    "logging.getLogger('pysmiles').setLevel(logging.CRITICAL)"
   ]
  },
  {
   "cell_type": "markdown",
   "id": "219528bc-3d39-4de3-92b8-68ca3d40f490",
   "metadata": {},
   "source": [
    "Load and pre-process data"
   ]
  },
  {
   "cell_type": "code",
   "execution_count": null,
   "id": "0ae1f31c-304c-47f7-b096-7c177e3a4793",
   "metadata": {},
   "outputs": [],
   "source": [
    "de_data_train = pq.read_table(\"../data/de_train.parquet\").to_pandas()\n",
    "de_data_train"
   ]
  },
  {
   "cell_type": "code",
   "execution_count": null,
   "id": "346bb3f1-bfac-4900-97d0-720eeeb1d9c9",
   "metadata": {},
   "outputs": [],
   "source": [
    "de_data_train[\"cell_type\"].unique()[1]"
   ]
  },
  {
   "cell_type": "code",
   "execution_count": null,
   "id": "4d5d41ff-e88a-4dcf-8bc1-8dbeb442399e",
   "metadata": {},
   "outputs": [],
   "source": [
    "cellNameToInt = {de_data_train[\"cell_type\"].unique()[i]: i for i in range(len(de_data_train[\"cell_type\"].unique()))}"
   ]
  },
  {
   "cell_type": "code",
   "execution_count": null,
   "id": "ec60105c-e6ea-4a93-a489-c50ae2ec588b",
   "metadata": {},
   "outputs": [],
   "source": [
    "de_data_train[\"cell_type_int\"] = de_data_train[\"cell_type\"].map(cellNameToInt)"
   ]
  },
  {
   "cell_type": "code",
   "execution_count": null,
   "id": "ffecd951-dbee-43dd-9536-856da94eda66",
   "metadata": {},
   "outputs": [],
   "source": [
    "cellNameToInt"
   ]
  },
  {
   "cell_type": "code",
   "execution_count": null,
   "id": "97554420-226b-473e-8bba-2eccb71d392b",
   "metadata": {},
   "outputs": [],
   "source": [
    "gene_names = de_data_train.columns[5:-2]"
   ]
  },
  {
   "cell_type": "markdown",
   "id": "dcbab7bc-89ca-45cf-9599-f15c4f8fa1d7",
   "metadata": {},
   "source": [
    "## Divide into train and test"
   ]
  },
  {
   "cell_type": "code",
   "execution_count": null,
   "id": "03f6a660-734b-4e98-818d-597754e68388",
   "metadata": {},
   "outputs": [],
   "source": [
    "# Cell types where all (cell_type, sm) pairs will be used for training\n",
    "train_only_cell_types     = [\"T cells CD4+\", \"T cells CD8+\", \"T regulatory cells\"]\n",
    "# Cell types where only some (cell_type, sm) pairs will be used for training\n",
    "train_and_test_cell_types = [\"B cells\", \"Myeloid cells\", \"NK cells\"]"
   ]
  },
  {
   "cell_type": "code",
   "execution_count": null,
   "id": "2d7bbcd9-9c55-4b6e-86e6-1ee48844f876",
   "metadata": {},
   "outputs": [],
   "source": [
    "# Create a dict mapping cell_name -> list of sm given for cell_name\n",
    "sm_names_by_cell_type = de_data_train.groupby(\"cell_type\")[\"sm_name\"].unique().to_dict()\n",
    "# Get list of small molecules given for cell types with a reduced set of (cell_type, sm) pairs\n",
    "train_and_test_sm = sm_names_by_cell_type[\"B cells\"]"
   ]
  },
  {
   "cell_type": "code",
   "execution_count": null,
   "id": "08441202-3f57-42ec-a9a7-5c450c81b371",
   "metadata": {},
   "outputs": [],
   "source": [
    "# For cell types where only some (cell_type, sm) pairs will be used for training\n",
    "# Choose which small molecules will be used for training and which for test\n",
    "num_b_sm       = len(sm_names_by_cell_type[\"B cells\"])\n",
    "num_myeloid_sm = len(sm_names_by_cell_type[\"Myeloid cells\"])\n",
    "num_nk_sm      = len(sm_names_by_cell_type[\"NK cells\"])\n",
    "\n",
    "b_cell_train       = sm_names_by_cell_type[\"B cells\"][:num_b_sm//2]\n",
    "myeloid_cell_train = sm_names_by_cell_type[\"Myeloid cells\"][:num_myeloid_sm//2]\n",
    "nk_cell_train      = sm_names_by_cell_type[\"NK cells\"][:num_nk_sm//2]\n",
    "\n",
    "b_cell_test       = sm_names_by_cell_type[\"B cells\"][num_b_sm//2:]\n",
    "myeloid_cell_test = sm_names_by_cell_type[\"Myeloid cells\"][num_myeloid_sm//2:]\n",
    "nk_cell_test      = sm_names_by_cell_type[\"NK cells\"][num_nk_sm//2:]"
   ]
  },
  {
   "cell_type": "code",
   "execution_count": null,
   "id": "0759d99a-ba32-4b89-ad4a-0f92f7a25631",
   "metadata": {},
   "outputs": [],
   "source": [
    "# Create training combinations with all (cell_type, sm) pairs for train only cell types\n",
    "training_combinations = dict((cell_type, sm_names_by_cell_type[cell_type]) for cell_type in train_only_cell_types)"
   ]
  },
  {
   "cell_type": "code",
   "execution_count": null,
   "id": "aefe1b45-09b6-41ce-b3e2-f46ec6948e2e",
   "metadata": {},
   "outputs": [],
   "source": [
    "# Include training (cell_type, sm) pairs from train_test cell types\n",
    "training_combinations[\"B cells\"] = b_cell_train\n",
    "training_combinations[\"Myeloid cells\"] = myeloid_cell_train\n",
    "training_combinations[\"NK cells\"] = nk_cell_train"
   ]
  },
  {
   "cell_type": "code",
   "execution_count": null,
   "id": "fdb13e18-f813-4afe-a5de-c23152f0d105",
   "metadata": {},
   "outputs": [],
   "source": [
    "# Create testing combinations\n",
    "testing_combinations = {}\n",
    "testing_combinations[\"B cells\"] = b_cell_test\n",
    "testing_combinations[\"Myeloid cells\"] = myeloid_cell_test\n",
    "testing_combinations[\"NK cells\"] = nk_cell_test"
   ]
  },
  {
   "cell_type": "code",
   "execution_count": null,
   "id": "fdf6ec27-fef4-4af3-a15b-78c12cb1a5e3",
   "metadata": {},
   "outputs": [],
   "source": [
    "training_combinations"
   ]
  },
  {
   "cell_type": "code",
   "execution_count": null,
   "id": "27e09ef7-6bec-4d72-9b4d-c30ac3613168",
   "metadata": {},
   "outputs": [],
   "source": [
    "testing_combinations"
   ]
  },
  {
   "cell_type": "code",
   "execution_count": null,
   "id": "48bdd432-8bb4-4725-948b-8502bc81b900",
   "metadata": {},
   "outputs": [],
   "source": [
    "# Convert into (cell_type, sm) pairs\n",
    "training_pairs = set({})\n",
    "for cell_type in training_combinations.keys():\n",
    "    for sm in training_combinations[cell_type]:\n",
    "        training_pairs.add(cell_type+\", \"+sm)\n",
    "\n",
    "testing_pairs = set({})\n",
    "for cell_type in testing_combinations.keys():\n",
    "    for sm in testing_combinations[cell_type]:\n",
    "        testing_pairs.add(cell_type+\", \"+sm)\n",
    "\n",
    "list(training_pairs)[:10]"
   ]
  },
  {
   "cell_type": "code",
   "execution_count": null,
   "id": "f1980e63-6bdd-4412-a70a-1732e3d5055e",
   "metadata": {},
   "outputs": [],
   "source": [
    "de_data_train[\"cell_type_sm_pair\"] = de_data_train[\"cell_type\"]+\", \"+de_data_train[\"sm_name\"]"
   ]
  },
  {
   "cell_type": "code",
   "execution_count": null,
   "id": "d02ffdcc-7895-477b-aa39-fc329f030049",
   "metadata": {},
   "outputs": [],
   "source": [
    "de_data_train[de_data_train[\"cell_type_sm_pair\"] == \"T regulatory cells, FK 866\"].iloc[0][5:-2]"
   ]
  },
  {
   "cell_type": "code",
   "execution_count": null,
   "id": "13954b68-70eb-4022-94fc-05987c1f5f3d",
   "metadata": {},
   "outputs": [],
   "source": [
    "sequences_file = \"../data/sequences_int.jsonl\"\n",
    "\n",
    "gene_to_dna_seq_int = {}\n",
    "gene_symbol_to_id = {}\n",
    "\n",
    "with open(sequences_file, \"r\") as sequences:\n",
    "    i = 0\n",
    "    for line in sequences:\n",
    "        json_line = json.loads(line)\n",
    "        gene_to_dna_seq_int[json_line[\"gene\"]] = json_line[\"seq\"]\n",
    "        gene_symbol_to_id[json_line[\"gene\"]] = i\n",
    "        i += 1"
   ]
  },
  {
   "cell_type": "code",
   "execution_count": null,
   "id": "be30e952-6898-4f8b-8ca5-31b3d8e8bdcf",
   "metadata": {},
   "outputs": [],
   "source": [
    "all_molecules = de_data_train[\"sm_name\"].unique()"
   ]
  },
  {
   "cell_type": "code",
   "execution_count": null,
   "id": "bba65aa5-d966-4224-adc2-2ea408ff6b40",
   "metadata": {},
   "outputs": [],
   "source": [
    "mol_to_smiles = {}\n",
    "for mol in all_molecules:\n",
    "    smiles = de_data_train[de_data_train[\"sm_name\"] == mol].iloc[0][\"SMILES\"]\n",
    "    mol_to_smiles[mol] = smiles"
   ]
  },
  {
   "cell_type": "code",
   "execution_count": null,
   "id": "c5e80cfe-cf75-4a3c-bd3c-9757d0b621ad",
   "metadata": {},
   "outputs": [],
   "source": [
    "mol_to_graphs = {}\n",
    "for mol in mol_to_smiles:\n",
    "    mol_to_graphs[mol] = smiles_to_graph(mol_to_smiles[mol])"
   ]
  },
  {
   "cell_type": "code",
   "execution_count": null,
   "id": "80650b79-2613-4678-b131-4bd493dfd5e4",
   "metadata": {},
   "outputs": [],
   "source": [
    "((32*100000)/8)/1024"
   ]
  },
  {
   "cell_type": "markdown",
   "id": "e57daedd-f1a8-4d84-8818-c3ba39f0f44b",
   "metadata": {},
   "source": [
    "# Create Dataset Generator"
   ]
  },
  {
   "cell_type": "code",
   "execution_count": null,
   "id": "b97edb57-a82d-495f-9fe4-c3a29a6851a8",
   "metadata": {},
   "outputs": [],
   "source": [
    "import GraphLayers"
   ]
  },
  {
   "cell_type": "code",
   "execution_count": null,
   "id": "231179b1-da0e-46ef-9634-7516c918a602",
   "metadata": {},
   "outputs": [],
   "source": [
    "MAX_NODES = 150\n",
    "MAX_EDGES = 200\n",
    "EMBEDDING_DIM = 120\n",
    "\n",
    "MAX_DNA_LEN = 40000"
   ]
  },
  {
   "cell_type": "code",
   "execution_count": null,
   "id": "b6807d77-b464-46f8-a7f7-6885e5ea063f",
   "metadata": {},
   "outputs": [],
   "source": [
    "def smiles_to_graph(smiles_molecule):\n",
    "    graph = pysmiles.read_smiles(smiles_molecule, explicit_hydrogen=True)\n",
    "    return GraphLayers.convertFromNetworkX(graph, \n",
    "                               MAX_NODES,\n",
    "                               MAX_EDGES, \n",
    "                               EMBEDDING_DIM)"
   ]
  },
  {
   "cell_type": "code",
   "execution_count": null,
   "id": "53a7ddbc-ace4-44fd-b76b-35f7051f810c",
   "metadata": {},
   "outputs": [],
   "source": [
    "def generate_examples(pair_names):\n",
    "    for pair_name in pair_names:\n",
    "        #print(\"NEW PAIR\")\n",
    "        #l = time.time()\n",
    "        pair_data = de_data_train[de_data_train[\"cell_type_sm_pair\"] == pair_name.decode()].iloc[0]\n",
    "\n",
    "        cell_type = pair_data[\"cell_type_int\"]\n",
    "        \n",
    "        molecule_name = pair_data[\"sm_name\"]\n",
    "\n",
    "        molecule_name = pair_data[\"sm_name\"]\n",
    "        molecule_smiles = pair_data[\"SMILES\"]\n",
    "        mol_ver, mol_edj, mol_uni, mol_am, mol_conn, mol_edgeAdj = mol_to_graphs[molecule_name]\n",
    "        \n",
    "        reference_example = {\n",
    "                \"mol_ver\": mol_ver,\n",
    "                \"mol_edj\": mol_edj,\n",
    "                \"mol_uni\": mol_uni,\n",
    "                \"mol_am\": mol_am,\n",
    "                \"mol_conn\": mol_conn,\n",
    "                \"mol_edgeAdj\": mol_edgeAdj\n",
    "        }\n",
    "        #print(f\"Took {time.time()-l} seconds to process graphs.\")\n",
    "        \n",
    "        for gene_name in gene_names:\n",
    "            gene_id = gene_symbol_to_id[gene_name]\n",
    "            dna_sequence_int = gene_to_dna_seq_int[gene_name]\n",
    "            \n",
    "            differential_expression = pair_data[gene_name]\n",
    "\n",
    "            example = reference_example.copy()\n",
    "\n",
    "            example[\"gene_id\"] = gene_id\n",
    "            example[\"dna_seq\"] = dna_sequence_int\n",
    "            example[\"cell_type\"] = cell_type\n",
    "            \n",
    "            yield example, differential_expression"
   ]
  },
  {
   "cell_type": "code",
   "execution_count": null,
   "id": "38ac4c92-7727-4a4a-b737-864c15a420d2",
   "metadata": {},
   "outputs": [],
   "source": [
    "from GraphLayers import *"
   ]
  },
  {
   "cell_type": "code",
   "execution_count": null,
   "id": "db276580-e6d0-45a0-8db9-0c422f247aeb",
   "metadata": {},
   "outputs": [],
   "source": [
    "def build_model(params):\n",
    "    vertices = Input(shape=((MAX_NODES, EMBEDDING_DIM,)), name=\"mol_ver\")\n",
    "    edges = Input(shape=((MAX_EDGES, EMBEDDING_DIM,)), name=\"mol_edj\")\n",
    "    universal = Input(shape=((EMBEDDING_DIM,)), name=\"mol_uni\")\n",
    "    adj = Input(shape=((MAX_NODES, MAX_NODES,)), name=\"mol_am\")\n",
    "    conEd = Input(shape=((MAX_NODES, MAX_EDGES,)), name=\"mol_conn\")\n",
    "    edgeAdj = Input(shape=((MAX_EDGES, MAX_EDGES,)), name=\"mol_edgeAdj\")\n",
    "    dna_sequence = Input(shape=((40000,)), name=\"dna_seq\")\n",
    "    geneID = Input(shape=((1,)), name=\"gene_id\")\n",
    "    cellType = Input(shape=((1,)), name=\"cell_type\")\n",
    "    \n",
    "    x = [vertices, edges, universal, adj, conEd, edgeAdj]\n",
    "\n",
    "    for i in range(params[\"graph_layers\"]):\n",
    "        for k in range(params[\"pool_steps\"]):\n",
    "            x = PoolStep(params[f\"step_{k}_pve\"],\n",
    "                        params[f\"step_{k}_pee\"],\n",
    "                        params[f\"step_{k}_pue\"],\n",
    "                        params[f\"step_{k}_pvv\"],\n",
    "                        params[f\"step_{k}_pev\"],\n",
    "                        params[f\"step_{k}_puv\"],\n",
    "                        params[f\"step_{k}_pvu\"],\n",
    "                        params[f\"step_{k}_peu\"])(x)\n",
    "        x = GraphUpdate(params[\"embedding_dim\"], params[\"embedding_dim\"], params[\"embedding_dim\"], params[\"update_function_depth\"])(x)\n",
    "\n",
    "    x = PoolStep(p_ve=False,\n",
    "                p_ee=False,\n",
    "                p_ue=False,\n",
    "                p_vv=False,\n",
    "                p_ev=False,\n",
    "                p_uv=False,\n",
    "                p_vu=True,\n",
    "                p_eu=True)(x)        \n",
    "    \n",
    "    u = x[2]\n",
    "\n",
    "    if params[\"use_genetic_data\"]:\n",
    "        dna_seq = Dense(64, activation=\"relu\")(dna_sequence)\n",
    "        u = Concatenate()([u, geneID, cellType, dna_seq])\n",
    "    else:\n",
    "        u = Concatenate()([u, geneID, cellType])\n",
    "    \n",
    "    for i in range(params[\"num_final_layers\"]):\n",
    "        u = Dense(4, activation=\"relu\")(u)\n",
    "\n",
    "    u = Dense(1)(u)\n",
    "    \n",
    "    return Model(inputs=[vertices, edges, universal, adj, conEd, edgeAdj, geneID, cellType, dna_sequence], outputs=u)"
   ]
  },
  {
   "cell_type": "code",
   "execution_count": null,
   "id": "b716df7a-3b98-44dc-9f33-2c4538a8ccc4",
   "metadata": {},
   "outputs": [],
   "source": [
    "def generate_parameter_set():\n",
    "    params = {}\n",
    "\n",
    "    params[\"graph_layers\"] = random.randint(1, 5)\n",
    "    params[\"pool_steps\"] = random.randint(0, 5)\n",
    "\n",
    "    params[\"update_function_depth\"] = random.randint(1, 5)\n",
    "\n",
    "    for k in range(params[\"pool_steps\"]):\n",
    "        params[f\"step_{k}_pve\"] = random.choice([True, False])\n",
    "        params[f\"step_{k}_pee\"] = random.choice([True, False])\n",
    "        params[f\"step_{k}_pue\"] = random.choice([True, False])\n",
    "        params[f\"step_{k}_pvv\"] = random.choice([True, False])\n",
    "        params[f\"step_{k}_pev\"] = random.choice([True, False])\n",
    "        params[f\"step_{k}_puv\"] = random.choice([True, False])\n",
    "        params[f\"step_{k}_pvu\"] = random.choice([True, False])\n",
    "        params[f\"step_{k}_peu\"] = random.choice([True, False])\n",
    "\n",
    "    params[\"embedding_dim\"] = random.randint(100, 100)\n",
    "    params[\"num_final_layers\"] = random.randint(1, 5)\n",
    "\n",
    "    params[\"optimizer\"] = random.choice([\"RMSProp\", \"Adam\", \"SGD\"])\n",
    "\n",
    "    if params[\"optimizer\"] == \"RMSProp\":\n",
    "        #params[\"learning_rate\"] = random.uniform(0.0001, 0.1)\n",
    "        params[\"learning_rate\"] = 0.001\n",
    "\n",
    "    if params[\"optimizer\"] == \"Adam\":\n",
    "        #params[\"learning_rate\"] = random.uniform(0.00001, 0.1)\n",
    "        params[\"learning_rate\"] = 0.001\n",
    "\n",
    "    if params[\"optimizer\"] == \"SGD\":\n",
    "        #params[\"learning_rate\"] = random.uniform(0.001, 0.1)\n",
    "        params[\"learning_rate\"] = 0.01\n",
    "\n",
    "    params[\"batch_size\"] = 4\n",
    "\n",
    "    params[\"use_genetic_data\"] = True\n",
    "    \n",
    "    return params"
   ]
  },
  {
   "cell_type": "code",
   "execution_count": null,
   "id": "772cb9a2-af63-46c3-b84b-4bf33168e4b9",
   "metadata": {},
   "outputs": [],
   "source": [
    "params = generate_parameter_set()\n",
    "\n",
    "model = build_model(params)\n",
    "\n",
    "if params[\"optimizer\"] == \"RMSProp\":\n",
    "    optimizer=tf.keras.optimizers.RMSprop(params[\"learning_rate\"])\n",
    "\n",
    "if params[\"optimizer\"] == \"Adam\":\n",
    "    optimizer=tf.keras.optimizers.Adam(params[\"learning_rate\"])\n",
    "\n",
    "if params[\"optimizer\"] == \"SGD\":\n",
    "    optimizer=tf.keras.optimizers.SGD(params[\"learning_rate\"])\n",
    "\n",
    "model.compile(\n",
    "    optimizer=optimizer,\n",
    "    loss=tf.keras.losses.MeanSquaredError(),\n",
    ")"
   ]
  },
  {
   "cell_type": "code",
   "execution_count": null,
   "id": "839d1b83-34f9-4e74-a344-72a6f79b80d0",
   "metadata": {},
   "outputs": [],
   "source": [
    "output_types = ({\"mol_ver\": tf.float32, \n",
    "               \"mol_edj\": tf.float32,\n",
    "               \"mol_uni\": tf.float32,\n",
    "               \"mol_am\": tf.float32,\n",
    "               \"mol_conn\": tf.float32,\n",
    "               \"mol_edgeAdj\": tf.float32,\n",
    "               \"gene_id\": tf.float32,\n",
    "               \"dna_seq\": tf.float32,\n",
    "               \"cell_type\": tf.float32,\n",
    "              }, tf.float32)\n",
    "\n",
    "output_shapes = ({\"mol_ver\": (MAX_NODES, EMBEDDING_DIM,), \n",
    "                \"mol_edj\": (MAX_EDGES, EMBEDDING_DIM,),\n",
    "                \"mol_uni\": (EMBEDDING_DIM,),\n",
    "                \"mol_am\":  (MAX_NODES, MAX_NODES,),\n",
    "                \"mol_conn\": (MAX_NODES, MAX_EDGES,),\n",
    "                \"mol_edgeAdj\": (MAX_EDGES, MAX_EDGES,),\n",
    "                \"gene_id\": (),\n",
    "                \"dna_seq\": (40000,),\n",
    "                \"cell_type\": (),\n",
    "               }, ())\n",
    "\n",
    "train_dataset = tf.data.Dataset.from_generator(generate_examples, \n",
    "                                            args=[list(training_pairs)], \n",
    "                                            output_types=output_types, \n",
    "                                            output_shapes=output_shapes).batch(1024).prefetch(10)\n",
    "\n",
    "test_dataset = tf.data.Dataset.from_generator(generate_examples, \n",
    "                                            args=[list(testing_pairs)], \n",
    "                                            output_types=output_types, \n",
    "                                            output_shapes=output_shapes).batch(1024).prefetch(10)"
   ]
  },
  {
   "cell_type": "code",
   "execution_count": null,
   "id": "3608522d-3b06-435a-aa9d-7292213bf297",
   "metadata": {},
   "outputs": [],
   "source": [
    "ds_iter = iter(train_dataset)"
   ]
  },
  {
   "cell_type": "code",
   "execution_count": null,
   "id": "90dc6cc1-3b55-4991-9f20-246e3bfdef57",
   "metadata": {},
   "outputs": [],
   "source": [
    "l = time.time()\n",
    "_ = next(ds_iter)\n",
    "print(f\"Took {time.time()-l} seconds to process a batch.\")"
   ]
  },
  {
   "cell_type": "code",
   "execution_count": null,
   "id": "0fb62de9-f491-456e-872a-463a29bb1eb5",
   "metadata": {},
   "outputs": [],
   "source": [
    "model.fit(train_dataset, validation_data=test_dataset, epochs=100)"
   ]
  },
  {
   "cell_type": "code",
   "execution_count": null,
   "id": "e4386662-7a18-4f01-89fd-62862bf99568",
   "metadata": {},
   "outputs": [],
   "source": []
  }
 ],
 "metadata": {
  "kernelspec": {
   "display_name": "Python 3 (ipykernel)",
   "language": "python",
   "name": "python3"
  },
  "language_info": {
   "codemirror_mode": {
    "name": "ipython",
    "version": 3
   },
   "file_extension": ".py",
   "mimetype": "text/x-python",
   "name": "python",
   "nbconvert_exporter": "python",
   "pygments_lexer": "ipython3",
   "version": "3.10.12"
  }
 },
 "nbformat": 4,
 "nbformat_minor": 5
}
