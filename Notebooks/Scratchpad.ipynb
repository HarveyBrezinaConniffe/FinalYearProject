{
 "cells": [
  {
   "cell_type": "code",
   "execution_count": null,
   "id": "44d2e5b7-c561-499b-891b-99e1af2da014",
   "metadata": {},
   "outputs": [],
   "source": [
    "import numpy as np"
   ]
  },
  {
   "cell_type": "code",
   "execution_count": null,
   "id": "83919206-d638-4c19-a114-a6da8a823871",
   "metadata": {},
   "outputs": [],
   "source": [
    "nodes = 3\n",
    "\n",
    "connections = [[0, 1], [1, 2]]\n",
    "edges = len(connections)\n",
    "\n",
    "embeddingDim = 3"
   ]
  },
  {
   "cell_type": "code",
   "execution_count": null,
   "id": "b9f268f6-8201-47d8-99d4-5e994ab96a23",
   "metadata": {},
   "outputs": [],
   "source": [
    "nodeEmbeddings = np.random.rand(nodes, embeddingDim)\n",
    "edgeEmbeddings = np.random.rand(edges, embeddingDim)"
   ]
  },
  {
   "cell_type": "code",
   "execution_count": null,
   "id": "7aa55794-d03e-4b45-99f3-98e88aa5206e",
   "metadata": {},
   "outputs": [],
   "source": [
    "adjacencyList = np.zeros((nodes, nodes))\n",
    "connectedEdges = np.zeros((nodes, edges))\n",
    "connectedVertices = np.zeros((edges, nodes))\n",
    "\n",
    "i = 0\n",
    "for start, end in connections:\n",
    "    adjacencyList[start][end] = 1\n",
    "    adjacencyList[end][start] = 1\n",
    "    connectedEdges[start][i] = 1\n",
    "    connectedEdges[end][i] = 1\n",
    "    connectedVertices[i][start] = 1\n",
    "    connectedVertices[i][end] = 1\n",
    "    i += 1\n",
    "\n",
    "adjacencyList"
   ]
  },
  {
   "cell_type": "code",
   "execution_count": null,
   "id": "9ca0aded-324d-4f5d-b2f1-32153b4103a0",
   "metadata": {},
   "outputs": [],
   "source": [
    "nodeEmbeddings.T"
   ]
  },
  {
   "cell_type": "code",
   "execution_count": null,
   "id": "061c000b-ae72-4a9e-872b-c8172b2157e5",
   "metadata": {},
   "outputs": [],
   "source": [
    "nodeEmbeddings"
   ]
  },
  {
   "cell_type": "code",
   "execution_count": null,
   "id": "5fd8e2ba-4afd-4089-9267-e312c71e9d07",
   "metadata": {},
   "outputs": [],
   "source": [
    "adjacencyList"
   ]
  },
  {
   "cell_type": "code",
   "execution_count": null,
   "id": "a9ddb614-6785-43ac-8643-3c6f3a32b43f",
   "metadata": {},
   "outputs": [],
   "source": [
    "np.dot(adjacencyList, nodeEmbeddings)"
   ]
  },
  {
   "cell_type": "code",
   "execution_count": null,
   "id": "57292045-f2f1-495e-a4bb-dc2bad776e20",
   "metadata": {},
   "outputs": [],
   "source": [
    "edgeEmbeddings"
   ]
  },
  {
   "cell_type": "code",
   "execution_count": null,
   "id": "d6b09c49-7285-4f7c-a416-07f9ebf80ff7",
   "metadata": {},
   "outputs": [],
   "source": [
    "def gatherNodes(nodeIdx):\n",
    "    filteredNodes = "
   ]
  },
  {
   "cell_type": "code",
   "execution_count": null,
   "id": "e8956000-bc07-4a7e-9743-d79ceaa78196",
   "metadata": {},
   "outputs": [],
   "source": [
    "Input:\n",
    "NxN node matrix\n",
    "NxN connectivity matrix\n",
    "Ouput:\n",
    "Pooled embeddings for each node = NxN node matrix"
   ]
  },
  {
   "cell_type": "code",
   "execution_count": null,
   "id": "392a7ac5-2d93-4432-8cc5-894cd19b23f2",
   "metadata": {},
   "outputs": [],
   "source": []
  },
  {
   "cell_type": "code",
   "execution_count": null,
   "id": "7c2c42d9-0d21-4ceb-958d-ed075c0cbc65",
   "metadata": {},
   "outputs": [],
   "source": [
    "nodeEmbeddings"
   ]
  },
  {
   "cell_type": "code",
   "execution_count": null,
   "id": "9d25f97d-9bd9-464f-af6c-f79eec3f133e",
   "metadata": {},
   "outputs": [],
   "source": [
    "edgeEmbeddings"
   ]
  },
  {
   "cell_type": "code",
   "execution_count": null,
   "id": "cd00cf7e-eb6f-48e6-9509-293856b9b668",
   "metadata": {},
   "outputs": [],
   "source": [
    "adjacencyList"
   ]
  },
  {
   "cell_type": "code",
   "execution_count": null,
   "id": "c0da8d6f-ab2f-4bc6-a467-87555d397b77",
   "metadata": {},
   "outputs": [],
   "source": [
    "connectedEdges"
   ]
  },
  {
   "cell_type": "code",
   "execution_count": null,
   "id": "6bb30329-6818-42d9-9fbc-a95b8aeb6f6d",
   "metadata": {},
   "outputs": [],
   "source": [
    "connectedVertices"
   ]
  },
  {
   "cell_type": "code",
   "execution_count": null,
   "id": "d443e10a-3ec8-4eb8-91dd-befe9c45269f",
   "metadata": {},
   "outputs": [],
   "source": [
    "np.dot(connectedEdges.T, nodeEmbeddings)"
   ]
  },
  {
   "cell_type": "code",
   "execution_count": null,
   "id": "126bea02-a0ab-45e3-ab05-de1f0f068708",
   "metadata": {},
   "outputs": [],
   "source": [
    "edgeEmbeddings"
   ]
  },
  {
   "cell_type": "code",
   "execution_count": null,
   "id": "10fe9290-8b63-4ab4-a893-7917b254f270",
   "metadata": {},
   "outputs": [],
   "source": [
    "import tensorflow as tf\n",
    "tf.matmul(tf.transpose(connectedEdges), nodeEmbeddings)"
   ]
  },
  {
   "cell_type": "code",
   "execution_count": null,
   "id": "76e4513a-7a84-4ab3-a852-f321e573ec73",
   "metadata": {},
   "outputs": [],
   "source": [
    "tf.reduce_sum(nodeEmbeddings, axis=-1)"
   ]
  },
  {
   "cell_type": "code",
   "execution_count": null,
   "id": "b275ca06-7d7f-4c08-8c85-2f8482d110d2",
   "metadata": {},
   "outputs": [],
   "source": []
  }
 ],
 "metadata": {
  "kernelspec": {
   "display_name": "Python 3 (ipykernel)",
   "language": "python",
   "name": "python3"
  },
  "language_info": {
   "codemirror_mode": {
    "name": "ipython",
    "version": 3
   },
   "file_extension": ".py",
   "mimetype": "text/x-python",
   "name": "python",
   "nbconvert_exporter": "python",
   "pygments_lexer": "ipython3",
   "version": "3.10.12"
  }
 },
 "nbformat": 4,
 "nbformat_minor": 5
}
