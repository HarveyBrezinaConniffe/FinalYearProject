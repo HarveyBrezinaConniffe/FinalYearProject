{
 "cells": [
  {
   "cell_type": "code",
   "execution_count": null,
   "id": "3277063a-eae0-40ec-8ed2-6997bf21c520",
   "metadata": {},
   "outputs": [],
   "source": [
    "import csv"
   ]
  },
  {
   "cell_type": "code",
   "execution_count": null,
   "id": "7bea3bc3-fdab-4546-aa5e-5800973145c6",
   "metadata": {},
   "outputs": [],
   "source": [
    "sequence_path = \"../data/GRC38/GCF_000001405.40_GRCh38.p14_genomic.fna\"\n",
    "annotation_path = \"../data/GRC38_ANNOTATIONS/gene_details.tsv\"\n",
    "protein_path = \"../data/GRC38/protein.faa\""
   ]
  },
  {
   "cell_type": "markdown",
   "id": "1fcb33b6-7fc5-4177-a612-9b46022fe25e",
   "metadata": {},
   "source": [
    "## Create a dictionary mapping gene name to accession (Sequence Record), start and end positions."
   ]
  },
  {
   "cell_type": "code",
   "execution_count": null,
   "id": "08477b37-65ca-455c-a3ee-d8b4924d7036",
   "metadata": {},
   "outputs": [],
   "source": [
    "gene_details = {}"
   ]
  },
  {
   "cell_type": "code",
   "execution_count": null,
   "id": "22193493-925a-4230-ad6e-f969c4efdba7",
   "metadata": {},
   "outputs": [],
   "source": [
    "with open(annotation_path) as annotation_file:\n",
    "    reader = csv.DictReader(annotation_file, delimiter=\"\\t\", quotechar='\"')\n",
    "    for row in reader:\n",
    "       gene_details[row[\"Symbol\"]] = (row[\"Accession\"], row[\"Begin\"], row[\"End\"], row[\"Orientation\"], row[\"Protein accession\"])"
   ]
  },
  {
   "cell_type": "code",
   "execution_count": null,
   "id": "54a728ad-e3ce-4a79-b26c-75465df5a2c9",
   "metadata": {},
   "outputs": [],
   "source": [
    "gene_details[\"A1BG\"]"
   ]
  },
  {
   "cell_type": "markdown",
   "id": "c6ca0b22-c3b3-4b2b-ac96-ad08f0e64ff5",
   "metadata": {},
   "source": [
    "## Create a dictionary mapping accession to sequence"
   ]
  },
  {
   "cell_type": "code",
   "execution_count": null,
   "id": "c3e0cedc-fea2-4e70-af86-33efc1b62644",
   "metadata": {},
   "outputs": [],
   "source": [
    "from Bio import SeqIO"
   ]
  },
  {
   "cell_type": "code",
   "execution_count": null,
   "id": "ecd98d1b-ddc9-42bc-8523-576654f1d4cb",
   "metadata": {},
   "outputs": [],
   "source": [
    "accession_to_sequence = {}"
   ]
  },
  {
   "cell_type": "code",
   "execution_count": null,
   "id": "3cec946d-a4fd-4542-8d63-9247ce0f1aa4",
   "metadata": {},
   "outputs": [],
   "source": [
    "records = list(SeqIO.parse(sequence_path, \"fasta\"))"
   ]
  },
  {
   "cell_type": "code",
   "execution_count": null,
   "id": "5f4e0fe2-96f9-49db-b25e-95e8c483859a",
   "metadata": {},
   "outputs": [],
   "source": [
    "for record in records:\n",
    "    accession_to_sequence[record.id] = record.seq"
   ]
  },
  {
   "cell_type": "markdown",
   "id": "87760005-6bec-4c00-a77f-3c20ff52dcbe",
   "metadata": {},
   "source": [
    "## Create a dictionary mapping protein accession to nucleotide sequence"
   ]
  },
  {
   "cell_type": "code",
   "execution_count": null,
   "id": "d5c3b918-991f-404d-bf83-7ebb1a960b88",
   "metadata": {},
   "outputs": [],
   "source": [
    "protein_accession_to_sequence = {}"
   ]
  },
  {
   "cell_type": "code",
   "execution_count": null,
   "id": "f77f3ef5-34e0-4106-9b66-a16493af9249",
   "metadata": {},
   "outputs": [],
   "source": [
    "protein_records = list(SeqIO.parse(protein_path, \"fasta\"))"
   ]
  },
  {
   "cell_type": "code",
   "execution_count": null,
   "id": "a3a9e212-9ad0-4aae-974f-1f0430c6b6d4",
   "metadata": {},
   "outputs": [],
   "source": [
    "for record in protein_records:\n",
    "    protein_accession_to_sequence[record.id] = record.seq"
   ]
  },
  {
   "cell_type": "markdown",
   "id": "28819b17-0070-4fca-8034-b872d2bf444c",
   "metadata": {},
   "source": [
    "## Function that maps a gene to sequence"
   ]
  },
  {
   "cell_type": "code",
   "execution_count": null,
   "id": "30978cc9-bffc-48df-820e-9368cc0266e9",
   "metadata": {},
   "outputs": [],
   "source": [
    "# Note - RefSeq soft masks repeat and low complexity regions by converting them to lower case. \n",
    "# I still want this data as it is valuable - Ignore masking by using .upper()\n",
    "def get_sequence(gene_symbol):\n",
    "    accession, start, end, orientation, protein_accession = gene_details[gene_symbol]\n",
    "    # Note RefSeq Coordinates are 1 indexed, Convert to python 0 indexing\n",
    "    return accession_to_sequence[accession][int(start)-1:int(end)].upper()"
   ]
  },
  {
   "cell_type": "markdown",
   "id": "a6de12ad-b340-4dd6-beff-6e353c820e99",
   "metadata": {},
   "source": [
    "## Function that maps a gene to a protein sequence"
   ]
  },
  {
   "cell_type": "code",
   "execution_count": null,
   "id": "33449bff-ff14-49fd-87fc-a347985ca693",
   "metadata": {},
   "outputs": [],
   "source": [
    "# Note - RefSeq soft masks repeat and low complexity regions by converting them to lower case. \n",
    "# I still want this data as it is valuable - Ignore masking by using .upper()\n",
    "def get_protein_sequence(gene_symbol):\n",
    "    accession, start, end, orientation, protein_accession = gene_details[gene_symbol]\n",
    "    # Note RefSeq Coordinates are 1 indexed, Convert to python 0 indexing\n",
    "    return protein_accession_to_sequence[protein_accession]"
   ]
  },
  {
   "cell_type": "code",
   "execution_count": null,
   "id": "30263582-f2d6-479c-9823-5b750cf167d8",
   "metadata": {},
   "outputs": [],
   "source": [
    "print(get_protein_sequence(\"A1BG\"))"
   ]
  },
  {
   "cell_type": "code",
   "execution_count": null,
   "id": "357387db-868d-4564-a798-18b476afd56d",
   "metadata": {},
   "outputs": [],
   "source": []
  }
 ],
 "metadata": {
  "kernelspec": {
   "display_name": "Python 3 (ipykernel)",
   "language": "python",
   "name": "python3"
  },
  "language_info": {
   "codemirror_mode": {
    "name": "ipython",
    "version": 3
   },
   "file_extension": ".py",
   "mimetype": "text/x-python",
   "name": "python",
   "nbconvert_exporter": "python",
   "pygments_lexer": "ipython3",
   "version": "3.10.12"
  }
 },
 "nbformat": 4,
 "nbformat_minor": 5
}
